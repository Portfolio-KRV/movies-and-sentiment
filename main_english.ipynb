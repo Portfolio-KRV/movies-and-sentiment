{
  "cells": [
    {
      "cell_type": "markdown",
      "metadata": {},
      "source": [
        "\n",
        "# Sentiment Classification of Movie Reviews Using Machine Learning and Neural Network Methods\n"
      ]
    },
    {
      "cell_type": "markdown",
      "metadata": {},
      "source": [
        "\n",
        "Developed By: Kevin Reyes.\n"
      ]
    },
    {
      "cell_type": "code",
      "execution_count": 1,
      "metadata": {},
      "outputs": [],
      "source": [
        "## Puede encontrar información sobre keras en https://keras.io/getting_started/intro_to_keras_for_engineers/\n",
        "## Puede encontrar información sobre sklearn en https://scikit-learn.org/stable/\n",
        "\n",
        "import os\n",
        "import numpy as np\n",
        "import matplotlib.pyplot as plt\n",
        "import pickle\n",
        "\n",
        "np.random.seed(1234)\n"
      ]
    },
    {
      "cell_type": "markdown",
      "metadata": {},
      "source": [
        "\n",
        "First, let&#39;s load the dataset into memory and see some of its data\n"
      ]
    },
    {
      "cell_type": "code",
      "execution_count": 2,
      "metadata": {},
      "outputs": [],
      "source": [
        "classes = [\"negative\", \"positive\"]\n",
        "X_train, y_train, X_test, y_test = pickle.load(\n",
        "    open(\"movies_review_train_test.dat\", \"rb\")\n",
        ")\n"
      ]
    },
    {
      "cell_type": "code",
      "execution_count": 3,
      "metadata": {},
      "outputs": [
        {
          "name": "stdout",
          "output_type": "stream",
          "text": [
            "Sentiment: positive\n",
            "Text: \n",
            "This is one of those Film's/pilot that if you knew BattleStar Galactica it helps, but isn't necessary. What makes this even more believable of a story than BSG is that this isn't something so far away in the future. This has such a depth to it that it is quite astonishing it was not released theatrically. The leads could not have been chosen better in such experienced & quite talented actors. Eric Stoltz is superb as the father who will do anything to be re-united w/his daughter however real or not she is & he'll do it no matter the cost. Paula Malcomson of \"Deadwood\" fame is terrific as his wife as well. You are not sure completely of his motives whether it's love or money or both, but that is what makes this pilot even more intriguing. I see a star in the making of Zoe played by the relative unknown Alessandra Torresani & her performance. Esai Morales is terrific in his desire to see his loved one again & just how wrong to be even considering what he wants more than his moral objections. I didn't think this would be a good idea when it was announced but from the pilot alone I am thrilled to see how we got to the BSG stage story. It's great to see Adama as a child already being affected & influenced by the different sorts of Robots starting to permeate life at this stage. I just hope that they can keep up the stories so we can figure out even more how they got the the Humanoid typed robots. This is an almost perfect pilot & I hope they can keep up the fantastic storytelling. Even the Visual effects are better than most of the garbage you see on the big screen. If you haven't gotten into BSG, @ least try this & I'll bet you become a fan & will want to see how the BSG story came to be.\n",
            "\n",
            "\n",
            "Sentiment: negative\n",
            "Text: \n",
            "First, I realize that a \"1\" rating is supposed to be reserved for the worst of the worst. This movie gets that from me because, as one reviewer points out, it's not bad in a self-aware, over-the-top sort of way that might allow it to have some comic or cult value. It simply misses its mark on every count. **Contains possible spoilers** The dialog is completely disingenuous. The continuity is so deliberate it's painful. Daniel just finishes speaking of his lost love, and with his final word the flamenco dancers start. The mock-shock of what's her name (see? I don't even remember her character's name, let alone the name of the forgettable actress) when her husband (the Baldwin) first tells her that her friend is the bad guy. The car and the motorcycle chases did all the right things. Vegetable carts gone flying. Cars crashing into each other. Motorcycles going down the stairs. People nearly being hit, but remarkably, no one is. Oh, that's right... except for the one guy who has been stabbed several times, is obviously stumbling along the curb with knife wounds, and an approaching car apparently didn't notice him there. Hmmm. <br /><br />It's becoming more and more remarkable to me that movies like this can be made. There is so much pressure in the film industry to make money, you'd think that someone in Hollywood would think of making good films worth seeing. Now there's a novel idea. <br /><br />My suggestion: don't see this film. Don't rent the DVD. Don't watch it on cable. There are lots of other things you could be doing that will leave you feeling more satisfied.\n",
            "\n",
            "\n",
            "Sentiment: negative\n",
            "Text: \n",
            "Penn takes the time to develop his characters, and we almost care about them. However there are some real problems with the story here, we see no real motivation for the evil brother's behavior, and the time line is screwed up. Supposedly set in 1963, the music is late 60s/early 70s. The references and dialogue is 70s/80s. The potential for a powerful climax presents itself, and Penn allows it to slip away. But even with all these difficulties it is worth the watch, but not great.\n",
            "\n",
            "\n",
            "Sentiment: negative\n",
            "Text: \n",
            "First off, I'd like to say that the user comments alone left me with tears in my eyes from laughing. One comment that bad SF movies become good comedies is right on the mark. MST3000 made it's living off that.<br /><br />If you look at THE ANGRY RED PLANET as the fever dream of a 10 year old comic book reader from 1959, you'll have the handle on this sucker. All the elements are there: the pseudoscience, occasionally logical, more often hilariously infantile. The adolescent boy attitude toward sex, with the \"gigolo\" captain (good call on that one, guys!) making eyes at the buxom \"scientist\" with hair so red it's a wonder it doesn't set off the fire alarms. The ridiculous conception of Mars as a planet so alien that everything glows red, yet one alien monster has a mouse face, and the blob alien has an eye that rotates like a kid's toy. The comic relief, an overweight astronaut (!) who sounds like he never finished the 8th grade in Brooklyn and has a psychotic fixation on his ray gun. And of course, the mere fact that alien = dangerously evil. If these people had met E.T., they would have roasted him in two seconds flat! \"OW\" indeed!<br /><br />Don't get me wrong. I rated this movie low. Still, it's never boring (except when the scientist tries to explain everything - only to make it all sound more and more ridiculous), and you have to admit, in your little kid core, it makes you jump a few times. <br /><br />Okay, then don't admit it. I guess you were never 10.\n",
            "\n",
            "\n",
            "Sentiment: positive\n",
            "Text: \n",
            "This is one excellent Sammo Hung movie. Actually, this is a great piece of Hong Kong action cinema. The story tells the story of pedicab drivers in Macao looking for love and getting mixed up w/ a vicious pimp. The performances are excellent and the characters are all likable and well-defined. The story is involving and has enough romance, drama, comedy, and suspense to keep one watching between fight scenes. Sammo Hung proves here that he's probably the best fight choreographer in the business. The action is simply amazing, esp. the fight w/ Lau Kar Leung and the finale. Billy Chow and Sammo Hung are amazing. A must see for any fan of action.\n",
            "\n",
            "\n",
            "Sentiment: positive\n",
            "Text: \n",
            "its great i loved it ha cause i love dinosaurs they r the greatest animals but i loved the show cause it wasn't copied from another show and it was a originals ha it has a good storyline and great for little kids (if they like dinosaurs that is) i have a few downs too its not all that great cause of the dinosaurs look a little mutated so i should have had but a 7 but right now is a little late for that yay 4 more lines to go it is great for a fantasy show though warning this might spoil a part for u so if u don't want it to be spoiled don't read on plz near the end is kinda weird cause all they need to do is get dang i forgot what it was so nvm guess its not a spoiler so never mind i loved it and its my opinion and sorry for any missed spelled words if any\n",
            "\n",
            "\n",
            "Sentiment: positive\n",
            "Text: \n",
            "Sentimental and naive but undeniably affecting, emotional man-helping-man plea, in this case personified as German and French miners forced to be closed off from each other after the Great War thanks to a new border, leading to disillusionment on the German side, as the French are the bosses. But when a fire begins on the French side, the common decency of the German men lead to assistance, safety and even friendship. This was a plea that would fall on deaf ears within the decade, as a certain man from Pabst's own side would break that piece and turn the Great War into merely a prelude. But it is obvious to me that Pabst really believes or at least wants to hope for this kind of fundamental humanism, as this film radiates with this optimism whereas his more flippant, cynical adaptation of The Threepenny Opera lacked the bite needed to make that work work. Also furthering his honest belief are the fact that the characters here are not simplistic mouthpieces for positions, but real people, with real families whose home lives we are privy to as well. These are ordinary, working-class men who just happen to believe in the worth of caring and treating right your fellow man, and in this day of individualist opportunism, I'll take a little thinning in my plot to get a positive message that represents a point of view that I think we can all aspire to.<br /><br />(Note: Apparently the ending is cut on most prints, where the French rebuild the mining gate, closing off the men once again. This is a brutal turn of events, and may have made the film a better overall film, but I would have lamented it souring the positives vibes of the final sequence, so in short, I'm glad it was clipped.) {Grade: 8/10 (B) / #7 (of 11) of 1931}\n",
            "\n",
            "\n",
            "Sentiment: negative\n",
            "Text: \n",
            "This movie is a great example of how even some very funny jokes can go terribly wrong. i really expected at least something from this movie after seeing the add which was funny as hell but the movie wasn't half as good.<br /><br />The weird part is that the jokes are actually funny, the spoofs of the smoking ban, Jo Bole... etc. are genuinely good jokes but i don't know whom to blame this movie flop on.<br /><br />The prime candidates may be:- 1) The hammers ( actors) and hammeresses (actresses) and not even the funny kind 2) The director 3)The guy who cast the actors and/or the director Anyway if you are really really bored and i mean really see this movie, or else get a copy of each and every ad or teaser of this movie and laugh your butt of because those will be far funnier than the film.<br /><br />p.s the only saving grace of this film is mahesh manjrekar and the funny chappu bhai\n",
            "\n",
            "\n",
            "Sentiment: positive\n",
            "Text: \n",
            "For a low budget project, the Film was a success. The story is interesting, and the actors were convincing. Eva Longoria, who now stars on the TV Show \"Dragnet,\" is sexier than ever. The locations were ideal for the ganster plot, and the director shows his talent by taking on many roles for his project. Of course this low budget film could use better editing transitions and more special effects for the gun scenes, but the music keeps this script moving. Although this film has it's share of problems, such as continuity, I must say that I would rent the director's next movie. If your a film student, you could learn a few things from the director's commentary.\n",
            "\n",
            "\n",
            "Sentiment: positive\n",
            "Text: \n",
            "I just saw this movie for the first time ever and I liked it. Her dancing was very entertaining. I read somewhere that she got the part in this movie because she knew how to dance. The scenery was great too. Yvonne is such a talented woman and beautiful. WE laughed at the silly kissing scenes, but that is what is great about old movies! I grew up with her on The Munsters and I am enjoying watching her in her earlier movies. They may not all be the best out there but still worth watching to see her act and sing. I am slowly purchasing all her movies and watching them as I receive them. I have a large collection of her memorabilia.\n",
            "\n",
            "\n"
          ]
        }
      ],
      "source": [
        "print_n = 10\n",
        "for k in range(print_n):\n",
        "    print(\"Sentiment: {0}\".format(classes[y_train[k]]))\n",
        "    print(\"Text: \")\n",
        "    print(X_train[k])\n",
        "    print(\"\\n\")\n"
      ]
    },
    {
      "cell_type": "markdown",
      "metadata": {},
      "source": [
        "\n",
        "## classic models\n"
      ]
    },
    {
      "cell_type": "code",
      "execution_count": 4,
      "metadata": {},
      "outputs": [],
      "source": [
        "from sklearn.feature_extraction.text import TfidfVectorizer\n",
        "from sklearn.feature_extraction.text import CountVectorizer\n",
        "\n",
        "from sklearn.linear_model import LogisticRegression\n",
        "from sklearn.naive_bayes import MultinomialNB\n",
        "from sklearn.decomposition import PCA\n",
        "from sklearn.manifold import TSNE\n",
        "from sklearn.cluster import KMeans\n",
        "from sklearn.mixture import GaussianMixture\n",
        "\n",
        "from sklearn.ensemble import RandomForestClassifier\n",
        "from sklearn.svm import LinearSVC\n",
        "\n",
        "from sklearn.model_selection import GridSearchCV\n",
        "\n",
        "from sklearn.metrics import classification_report\n",
        "from sklearn import metrics\n"
      ]
    },
    {
      "cell_type": "markdown",
      "metadata": {},
      "source": [
        "\n",
        "### Text vectorization using bag of words and tf-idf\n"
      ]
    },
    {
      "cell_type": "code",
      "execution_count": 5,
      "metadata": {},
      "outputs": [],
      "source": [
        "# max_features = 1000\n",
        "cv_vectorizer = CountVectorizer()\n",
        "X_train_preprocesado_cv = cv_vectorizer.fit_transform(X_train)\n",
        "X_test_preprocesado_cv = cv_vectorizer.transform(X_test)\n",
        "\n",
        "tf_vectorizer = TfidfVectorizer()\n",
        "X_train_preprocesado_tv = tf_vectorizer.fit_transform(X_train)\n",
        "X_test_preprocesado_tv = tf_vectorizer.transform(X_test)\n"
      ]
    },
    {
      "cell_type": "markdown",
      "metadata": {},
      "source": [
        "\n",
        "### MultinomialNB and LogisticRegression models\n"
      ]
    },
    {
      "cell_type": "code",
      "execution_count": 6,
      "metadata": {},
      "outputs": [
        {
          "name": "stdout",
          "output_type": "stream",
          "text": [
            "[1]\n",
            "[1]\n",
            "[1]\n",
            "[1]\n"
          ]
        }
      ],
      "source": [
        "mnb_clf_cv = MultinomialNB()\n",
        "mnb_clf_cv.fit(X_train_preprocesado_cv, y_train)\n",
        "print(mnb_clf_cv.predict(X_test_preprocesado_cv[5:6]))\n",
        "\n",
        "mnb_clf_tv = MultinomialNB()\n",
        "mnb_clf_tv.fit(X_train_preprocesado_tv, y_train)\n",
        "print(mnb_clf_tv.predict(X_test_preprocesado_tv[5:6]))\n",
        "\n",
        "max_iter = 1000\n",
        "lgr_clf_cv = LogisticRegression(max_iter=max_iter)\n",
        "lgr_clf_cv.fit(X_train_preprocesado_cv, y_train)\n",
        "print(lgr_clf_cv.predict(X_test_preprocesado_cv[5:6]))\n",
        "\n",
        "lgr_clf_tv = LogisticRegression(max_iter=max_iter)\n",
        "lgr_clf_tv.fit(X_train_preprocesado_tv, y_train)\n",
        "print(lgr_clf_tv.predict(X_test_preprocesado_tv[5:6]))\n"
      ]
    },
    {
      "cell_type": "markdown",
      "metadata": {},
      "source": [
        "\n",
        "### Hyperparameter optimization with GridSearchCV\n"
      ]
    },
    {
      "cell_type": "code",
      "execution_count": 7,
      "metadata": {},
      "outputs": [],
      "source": [
        "max_iter = 700\n",
        "lgr_clf_cv = LogisticRegression(max_iter=max_iter)\n",
        "\n",
        "param_grid = [{\"penalty\": [\"l2\"], \"C\": [0.1, 0.5, 1.0, 1.3]}, {\"penalty\": [\"none\"]}]\n",
        "clf_gscv_cv = GridSearchCV(lgr_clf_cv, param_grid=param_grid, cv=3).fit(\n",
        "    X_train_preprocesado_cv, y_train\n",
        ")\n"
      ]
    },
    {
      "cell_type": "code",
      "execution_count": 8,
      "metadata": {},
      "outputs": [
        {
          "name": "stdout",
          "output_type": "stream",
          "text": [
            "{'C': 0.1, 'penalty': 'l2'}\n"
          ]
        }
      ],
      "source": [
        "# Mejor configuración obtenida fue {'C': 0.1, 'penalty': 'l2'}\n",
        "print(clf_gscv_cv.best_params_)\n"
      ]
    },
    {
      "cell_type": "markdown",
      "metadata": {},
      "source": [
        "\n",
        "### Results with classification report\n"
      ]
    },
    {
      "cell_type": "code",
      "execution_count": 9,
      "metadata": {},
      "outputs": [
        {
          "name": "stdout",
          "output_type": "stream",
          "text": [
            "              precision    recall  f1-score   support\n",
            "\n",
            "           0       0.88      0.88      0.88      1485\n",
            "           1       0.88      0.88      0.88      1515\n",
            "\n",
            "    accuracy                           0.88      3000\n",
            "   macro avg       0.88      0.88      0.88      3000\n",
            "weighted avg       0.88      0.88      0.88      3000\n",
            "\n"
          ]
        }
      ],
      "source": [
        "lgr_clf_cv_best_model = LogisticRegression(max_iter=max_iter, C=0.1, penalty=\"l2\")\n",
        "lgr_clf_cv_best_model.fit(X_train_preprocesado_cv, y_train)\n",
        "print(\n",
        "    classification_report(y_test, lgr_clf_cv_best_model.predict(X_test_preprocesado_cv))\n",
        ")\n"
      ]
    },
    {
      "cell_type": "markdown",
      "metadata": {},
      "source": [
        "\n",
        "### AUC and ROC curve\n"
      ]
    },
    {
      "cell_type": "code",
      "execution_count": 10,
      "metadata": {},
      "outputs": [
        {
          "data": {
            "text/plain": [
              "{'mean_fit_time': array([5.50665371, 8.07094487, 7.3223664 , 7.74424322, 1.59808524]),\n",
              " 'std_fit_time': array([0.38629293, 0.29387472, 0.17525686, 0.24950256, 0.07811915]),\n",
              " 'mean_score_time': array([0.00832319, 0.00801126, 0.00666682, 0.00599909, 0.00533175]),\n",
              " 'std_score_time': array([2.04166815e-03, 1.64553123e-03, 9.44483384e-04, 1.08386530e-06,\n",
              "        4.71201857e-04]),\n",
              " 'param_C': masked_array(data=[0.1, 0.5, 1.0, 1.3, --],\n",
              "              mask=[False, False, False, False,  True],\n",
              "        fill_value='?',\n",
              "             dtype=object),\n",
              " 'param_penalty': masked_array(data=['l2', 'l2', 'l2', 'l2', 'none'],\n",
              "              mask=[False, False, False, False, False],\n",
              "        fill_value='?',\n",
              "             dtype=object),\n",
              " 'params': [{'C': 0.1, 'penalty': 'l2'},\n",
              "  {'C': 0.5, 'penalty': 'l2'},\n",
              "  {'C': 1.0, 'penalty': 'l2'},\n",
              "  {'C': 1.3, 'penalty': 'l2'},\n",
              "  {'penalty': 'none'}],\n",
              " 'split0_test_score': array([0.93967906, 0.93520366, 0.93311708, 0.93241163, 0.9216656 ]),\n",
              " 'split1_test_score': array([0.94124932, 0.93971826, 0.93855809, 0.93813073, 0.92972584]),\n",
              " 'split2_test_score': array([0.94444503, 0.94129572, 0.93971026, 0.9391341 , 0.92681029]),\n",
              " 'mean_test_score': array([0.94179114, 0.93873921, 0.93712848, 0.93655882, 0.92606724]),\n",
              " 'std_test_score': array([0.00198306, 0.00258163, 0.00287523, 0.00296098, 0.00333226]),\n",
              " 'rank_test_score': array([1, 2, 3, 4, 5])}"
            ]
          },
          "execution_count": 10,
          "metadata": {},
          "output_type": "execute_result"
        }
      ],
      "source": [
        "clf_gscv_cv_roc_auc = GridSearchCV(\n",
        "    lgr_clf_cv, param_grid=param_grid, cv=3, scoring=\"roc_auc\"\n",
        ").fit(X_train_preprocesado_cv, y_train)\n",
        "clf_gscv_cv_roc_auc.cv_results_\n"
      ]
    },
    {
      "cell_type": "code",
      "execution_count": 11,
      "metadata": {},
      "outputs": [
        {
          "data": {
            "text/plain": [
              "LogisticRegression(max_iter=700, penalty='none')"
            ]
          },
          "execution_count": 11,
          "metadata": {},
          "output_type": "execute_result"
        }
      ],
      "source": [
        "lgr_clf_cv_1 = LogisticRegression(max_iter=max_iter, C=0.1, penalty=\"l2\")\n",
        "lgr_clf_cv_1.fit(X_train_preprocesado_cv, y_train)\n",
        "\n",
        "lgr_clf_cv_2 = LogisticRegression(max_iter=max_iter, C=0.5, penalty=\"l2\")\n",
        "lgr_clf_cv_2.fit(X_train_preprocesado_cv, y_train)\n",
        "\n",
        "lgr_clf_cv_3 = LogisticRegression(max_iter=max_iter, C=1, penalty=\"l2\")\n",
        "lgr_clf_cv_3.fit(X_train_preprocesado_cv, y_train)\n",
        "\n",
        "lgr_clf_cv_4 = LogisticRegression(max_iter=max_iter, C=1.3, penalty=\"l2\")\n",
        "lgr_clf_cv_4.fit(X_train_preprocesado_cv, y_train)\n",
        "\n",
        "lgr_clf_cv_5 = LogisticRegression(max_iter=max_iter, penalty=\"none\")\n",
        "lgr_clf_cv_5.fit(X_train_preprocesado_cv, y_train)\n"
      ]
    },
    {
      "cell_type": "code",
      "execution_count": 12,
      "metadata": {},
      "outputs": [
        {
          "data": {
            "image/png": "[encoded data removed]",
            "text/plain": [
              "<Figure size 432x288 with 1 Axes>"
            ]
          },
          "metadata": {
            "needs_background": "light"
          },
          "output_type": "display_data"
        }
      ],
      "source": [
        "fig, ax = plt.subplots()\n",
        "metrics.plot_roc_curve(\n",
        "    lgr_clf_cv_1,\n",
        "    X_test_preprocesado_cv,\n",
        "    y_test,\n",
        "    ax=ax,\n",
        "    name=\"Logistic Regression c:0.1 - l2\",\n",
        ")\n",
        "metrics.plot_roc_curve(\n",
        "    lgr_clf_cv_2,\n",
        "    X_test_preprocesado_cv,\n",
        "    y_test,\n",
        "    ax=ax,\n",
        "    name=\"Logistic Regression c:0.5 - l2\",\n",
        ")\n",
        "metrics.plot_roc_curve(\n",
        "    lgr_clf_cv_3,\n",
        "    X_test_preprocesado_cv,\n",
        "    y_test,\n",
        "    ax=ax,\n",
        "    name=\"Logistic Regression c:1 - l2\",\n",
        ")\n",
        "metrics.plot_roc_curve(\n",
        "    lgr_clf_cv_4,\n",
        "    X_test_preprocesado_cv,\n",
        "    y_test,\n",
        "    ax=ax,\n",
        "    name=\"Logistic Regression c:1.3 - l2\",\n",
        ")\n",
        "metrics.plot_roc_curve(\n",
        "    lgr_clf_cv_5, X_test_preprocesado_cv, y_test, ax=ax, name=\"Logistic Regression none\"\n",
        ")\n",
        "plt.show()\n"
      ]
    },
    {
      "cell_type": "markdown",
      "metadata": {},
      "source": [
        "\n",
        "### Comments\n",
        "\n",
        " Regarding the results obtained in the classification report, it is highlighted that the dataset is almost completely balanced, since there are **1,485 negative reviews** and **1,515 positive ones** , which gives an imbalance of only **2%** . Since it is a binary classification problem and the classes are balanced, it is observed that the different indicators have the same value, from these it is interpreted that **88%** of the opinions classified as positive are effectively positive, the same happens for the negative. On the other hand, we can also say that **88%** of the positive opinions will be correctly detected, the same applies to the negative ones.\n",
        "\n",
        " The ROC curve compares the rate of true positives with the rate of false positives under different classification **thresholds** (for example, output &gt;= 0.5 then the opinion is positive, where 0.5 is the threshold). When observing the values of the Area under the ROC curve (AUC), it is observed that the best classifier is for a C of **0.1 and regularization l2** , this result is relevant to determine which model is better than another, since AUC is **invariant to the scale and the classification threshold** , therefore, there is a general indicator of performance of the classifiers.\n",
        "\n",
        " Since C is an **inverse** parameter of the strength of the regularizer, it is concluded that the model acquires **greater** **generalization** capacity by increasing the strength of the regularization l2, that is, a **lower** value of C.\n"
      ]
    },
    {
      "cell_type": "markdown",
      "metadata": {},
      "source": [
        "\n",
        "### RandomForestClassifier\n"
      ]
    },
    {
      "cell_type": "code",
      "execution_count": 13,
      "metadata": {},
      "outputs": [
        {
          "name": "stdout",
          "output_type": "stream",
          "text": [
            "{'mean_fit_time': array([2.35975011, 7.10835934, 2.24796621, 6.5056332 ]), 'std_fit_time': array([0.14994382, 0.73147736, 0.06341558, 0.06371547]), 'mean_score_time': array([0.04586307, 0.12861649, 0.04433966, 0.11507662]), 'std_score_time': array([0.00288434, 0.00741029, 0.00339615, 0.00075695]), 'param_criterion': masked_array(data=['gini', 'gini', 'entropy', 'entropy'],\n",
            "             mask=[False, False, False, False],\n",
            "       fill_value='?',\n",
            "            dtype=object), 'param_n_estimators': masked_array(data=[10, 30, 10, 30],\n",
            "             mask=[False, False, False, False],\n",
            "       fill_value='?',\n",
            "            dtype=object), 'params': [{'criterion': 'gini', 'n_estimators': 10}, {'criterion': 'gini', 'n_estimators': 30}, {'criterion': 'entropy', 'n_estimators': 10}, {'criterion': 'entropy', 'n_estimators': 30}], 'split0_test_score': array([0.7278, 0.7896, 0.7442, 0.7928]), 'split1_test_score': array([0.739 , 0.8004, 0.7402, 0.8044]), 'split2_test_score': array([0.7356, 0.801 , 0.7414, 0.8048]), 'mean_test_score': array([0.73413333, 0.797     , 0.74193333, 0.80066667]), 'std_test_score': array([0.00468852, 0.00523832, 0.00167597, 0.00556497]), 'rank_test_score': array([4, 2, 3, 1])}\n",
            "\n",
            "\n",
            "Mejores parámetros para dataset CounterVectorizer\n",
            "{'criterion': 'entropy', 'n_estimators': 30}\n",
            "\n",
            "\n",
            "{'mean_fit_time': array([2.54918702, 6.25279919, 2.12535389, 8.02431568]), 'std_fit_time': array([0.03798106, 0.33818235, 0.23644062, 2.4836679 ]), 'mean_score_time': array([0.08369335, 0.14809155, 0.12151368, 0.15001106]), 'std_score_time': array([0.01117111, 0.00374003, 0.07567158, 0.00573124]), 'param_criterion': masked_array(data=['gini', 'gini', 'entropy', 'entropy'],\n",
            "             mask=[False, False, False, False],\n",
            "       fill_value='?',\n",
            "            dtype=object), 'param_n_estimators': masked_array(data=[10, 30, 10, 30],\n",
            "             mask=[False, False, False, False],\n",
            "       fill_value='?',\n",
            "            dtype=object), 'params': [{'criterion': 'gini', 'n_estimators': 10}, {'criterion': 'gini', 'n_estimators': 30}, {'criterion': 'entropy', 'n_estimators': 10}, {'criterion': 'entropy', 'n_estimators': 30}], 'split0_test_score': array([0.7246, 0.7856, 0.7272, 0.7952]), 'split1_test_score': array([0.728 , 0.7914, 0.738 , 0.7926]), 'split2_test_score': array([0.741 , 0.792 , 0.7324, 0.7984]), 'mean_test_score': array([0.7312    , 0.78966667, 0.73253333, 0.7954    ]), 'std_test_score': array([0.0070673 , 0.00288598, 0.00441009, 0.00237206]), 'rank_test_score': array([4, 2, 3, 1])}\n",
            "\n",
            "\n",
            "Mejores parámetros para dataset TfidfVectorizer\n",
            "{'criterion': 'entropy', 'n_estimators': 30}\n"
          ]
        }
      ],
      "source": [
        "param_grid = [{\"n_estimators\": [10, 30], \"criterion\": [\"gini\", \"entropy\"]}]\n",
        "clf_rf_cv = RandomForestClassifier(random_state=0)\n",
        "clf_gscv_rf_cv = GridSearchCV(clf_rf_cv, param_grid=param_grid, cv=3).fit(\n",
        "    X_train_preprocesado_cv, y_train\n",
        ")\n",
        "print(clf_gscv_rf_cv.cv_results_)\n",
        "print(\"\\n\")\n",
        "print(\"Mejores parámetros para dataset CounterVectorizer\")\n",
        "print(clf_gscv_rf_cv.best_params_)\n",
        "print(\"\\n\")\n",
        "\n",
        "clf_rf_tv = RandomForestClassifier(random_state=0)\n",
        "clf_gscv_rf_tv = GridSearchCV(clf_rf_tv, param_grid=param_grid, cv=3).fit(\n",
        "    X_train_preprocesado_tv, y_train\n",
        ")\n",
        "print(clf_gscv_rf_tv.cv_results_)\n",
        "print(\"\\n\")\n",
        "print(\"Mejores parámetros para dataset TfidfVectorizer\")\n",
        "print(clf_gscv_rf_tv.best_params_)\n"
      ]
    },
    {
      "cell_type": "markdown",
      "metadata": {},
      "source": [
        "\n",
        "The Random Forest model consists of creating a \"forest\" of decision trees, that is, several weak classifiers. Each tree is trained on a subsample of the dataset and the result of the Random Forest classification consists of the average or some other operation applied to all decision trees. On the other hand, a decision tree consists of a set of decision nodes and edges that represent possible values of the variables involved in the problem. The leaves of the tree will represent class labels, in the context of the opinions, we will have leaves with positive and negative classification.\n"
      ]
    },
    {
      "cell_type": "markdown",
      "metadata": {},
      "source": [
        "\n",
        "## Neural network models\n"
      ]
    },
    {
      "cell_type": "code",
      "execution_count": 14,
      "metadata": {},
      "outputs": [],
      "source": [
        "from tensorflow import keras\n",
        "from tensorflow.keras.models import Sequential, Model\n",
        "from tensorflow.keras.layers import (\n",
        "    Dense,\n",
        "    Input,\n",
        "    Embedding,\n",
        "    LSTM,\n",
        "    SimpleRNN,\n",
        "    Add,\n",
        "    Lambda,\n",
        "    Dropout,\n",
        "    Flatten,\n",
        "    LayerNormalization,\n",
        ")\n",
        "from tensorflow.keras.optimizers import Adam\n",
        "import tensorflow.keras.backend as K\n"
      ]
    },
    {
      "cell_type": "code",
      "execution_count": 15,
      "metadata": {},
      "outputs": [],
      "source": [
        "# Definición de parámetros\n",
        "batch_size = 32\n",
        "epochs = 2\n",
        "num_classes = 2\n",
        "max_words = 70\n",
        "embedding_size = 30\n"
      ]
    },
    {
      "cell_type": "markdown",
      "metadata": {},
      "source": [
        "\n",
        "### preprocessing\n",
        "\n",
        " Next we will preprocess the data, performing tokenization:\n"
      ]
    },
    {
      "cell_type": "code",
      "execution_count": 16,
      "metadata": {},
      "outputs": [],
      "source": [
        "from tensorflow.keras.preprocessing.text import Tokenizer\n",
        "\n",
        "# Tokenizing text\n",
        "tokenizer = Tokenizer()\n",
        "tokenizer.fit_on_texts(X_train + X_test)\n",
        "word_index = tokenizer.word_index\n",
        "num_words = len(tokenizer.word_index) + 1\n"
      ]
    },
    {
      "cell_type": "code",
      "execution_count": 17,
      "metadata": {},
      "outputs": [],
      "source": [
        "# Transformando texto a secuencias de indices\n",
        "X_tr = tokenizer.texts_to_sequences(X_train)\n",
        "X_te = tokenizer.texts_to_sequences(X_test)\n"
      ]
    },
    {
      "cell_type": "code",
      "execution_count": 18,
      "metadata": {},
      "outputs": [],
      "source": [
        "from tensorflow.keras.preprocessing.sequence import pad_sequences\n",
        "from tensorflow.keras.utils import to_categorical\n",
        "\n",
        "# Se agregan 0 a textos que tienen menos de max_words palabras y se cortan los que tienen mas\n",
        "X_tr_pad = pad_sequences(X_tr, maxlen=max_words)\n",
        "X_te_pad = pad_sequences(X_te, maxlen=max_words)\n",
        "# Se convierten label a version categorica\n",
        "y_train = to_categorical(y_train, num_classes=num_classes)\n",
        "y_test = to_categorical(y_test, num_classes=num_classes)\n"
      ]
    },
    {
      "cell_type": "code",
      "execution_count": 19,
      "metadata": {},
      "outputs": [],
      "source": [
        "y_train_new = y_train[:, 1]\n",
        "y_test_new = y_test[:, 1]\n",
        "# PREGUNTAR AL PROFE SI SE PUEDE MODIFICAR\n"
      ]
    },
    {
      "cell_type": "markdown",
      "metadata": {},
      "source": [
        "\n",
        "### feedforward neural network\n",
        "\n",
        " We will first train a feedforward neural network directly on the tokenized text, using simple embedding.\n"
      ]
    },
    {
      "cell_type": "code",
      "execution_count": 20,
      "metadata": {},
      "outputs": [
        {
          "name": "stdout",
          "output_type": "stream",
          "text": [
            "Model: \"sequential\"\n",
            "_________________________________________________________________\n",
            "Layer (type)                 Output Shape              Param #   \n",
            "=================================================================\n",
            "embedding (Embedding)        (None, 70, 30)            2319600   \n",
            "_________________________________________________________________\n",
            "flatten (Flatten)            (None, 2100)              0         \n",
            "_________________________________________________________________\n",
            "dense (Dense)                (None, 8)                 16808     \n",
            "_________________________________________________________________\n",
            "dense_1 (Dense)              (None, 1)                 9         \n",
            "=================================================================\n",
            "Total params: 2,336,417\n",
            "Trainable params: 2,336,417\n",
            "Non-trainable params: 0\n",
            "_________________________________________________________________\n",
            "Epoch 1/10\n",
            "329/329 [==============================] - 15s 42ms/step - loss: 0.6579 - accuracy: 0.5842 - val_loss: 0.3905 - val_accuracy: 0.8207\n",
            "Epoch 2/10\n",
            "329/329 [==============================] - 13s 41ms/step - loss: 0.2167 - accuracy: 0.9224 - val_loss: 0.3912 - val_accuracy: 0.8220\n",
            "Epoch 3/10\n",
            "329/329 [==============================] - 13s 38ms/step - loss: 0.0251 - accuracy: 0.9982 - val_loss: 0.4504 - val_accuracy: 0.8144\n",
            "Epoch 4/10\n",
            "329/329 [==============================] - 13s 38ms/step - loss: 0.0046 - accuracy: 1.0000 - val_loss: 0.4650 - val_accuracy: 0.8178\n",
            "Epoch 5/10\n",
            "329/329 [==============================] - 13s 40ms/step - loss: 0.0017 - accuracy: 1.0000 - val_loss: 0.4861 - val_accuracy: 0.8164\n",
            "Epoch 6/10\n",
            "329/329 [==============================] - 15s 46ms/step - loss: 0.0010 - accuracy: 1.0000 - val_loss: 0.5044 - val_accuracy: 0.8162\n",
            "Epoch 7/10\n",
            "329/329 [==============================] - 14s 42ms/step - loss: 6.3488e-04 - accuracy: 1.0000 - val_loss: 0.5184 - val_accuracy: 0.8167\n",
            "Epoch 8/10\n",
            "329/329 [==============================] - 13s 38ms/step - loss: 4.3962e-04 - accuracy: 1.0000 - val_loss: 0.5326 - val_accuracy: 0.8164\n",
            "Epoch 9/10\n",
            "329/329 [==============================] - 13s 38ms/step - loss: 3.1814e-04 - accuracy: 1.0000 - val_loss: 0.5451 - val_accuracy: 0.8171\n",
            "Epoch 10/10\n",
            "329/329 [==============================] - 13s 41ms/step - loss: 2.3310e-04 - accuracy: 1.0000 - val_loss: 0.5575 - val_accuracy: 0.8156\n"
          ]
        }
      ],
      "source": [
        "model_1_5 = Sequential()\n",
        "model_1_5.add(\n",
        "    Embedding(input_dim=num_words, output_dim=embedding_size, input_length=max_words)\n",
        ")\n",
        "# PREGUNTA AL PROFE SI SE PUEDE USAR Flatten\n",
        "model_1_5.add(Flatten())\n",
        "model_1_5.add(Dense(8))\n",
        "model_1_5.add(Dense(1, activation=\"sigmoid\"))\n",
        "model_1_5.summary()\n",
        "model_1_5.compile(loss=\"binary_crossentropy\", optimizer=\"adam\", metrics=[\"accuracy\"])\n",
        "hist_1_5 = model_1_5.fit(X_tr_pad, y_train_new, epochs=10, validation_split=0.3)\n"
      ]
    },
    {
      "cell_type": "markdown",
      "metadata": {},
      "source": [
        "\n",
        "### Evaluation\n"
      ]
    },
    {
      "cell_type": "code",
      "execution_count": 21,
      "metadata": {},
      "outputs": [
        {
          "name": "stdout",
          "output_type": "stream",
          "text": [
            "94/94 [==============================] - 0s 946us/step - loss: 0.6114 - accuracy: 0.8093\n",
            "[0.6114469170570374, 0.809333324432373]\n"
          ]
        }
      ],
      "source": [
        "accr_1_5 = model_1_5.evaluate(X_te_pad, y_test_new)\n",
        "# [loss,accuracy]\n",
        "print(accr_1_5)\n"
      ]
    },
    {
      "cell_type": "markdown",
      "metadata": {},
      "source": [
        "\n",
        "### Simple Recurrent Neural Network with Embedding\n"
      ]
    },
    {
      "cell_type": "code",
      "execution_count": 22,
      "metadata": {},
      "outputs": [
        {
          "name": "stdout",
          "output_type": "stream",
          "text": [
            "Model: \"model\"\n",
            "_________________________________________________________________\n",
            "Layer (type)                 Output Shape              Param #   \n",
            "=================================================================\n",
            "input_1 (InputLayer)         [(None, 70)]              0         \n",
            "_________________________________________________________________\n",
            "embedding_1 (Embedding)      (None, 70, 30)            2319600   \n",
            "_________________________________________________________________\n",
            "simple_rnn (SimpleRNN)       (None, 10)                410       \n",
            "_________________________________________________________________\n",
            "dense_2 (Dense)              (None, 1)                 11        \n",
            "=================================================================\n",
            "Total params: 2,320,021\n",
            "Trainable params: 2,320,021\n",
            "Non-trainable params: 0\n",
            "_________________________________________________________________\n",
            "Epoch 1/10\n",
            "329/329 [==============================] - 16s 46ms/step - loss: 0.6586 - accuracy: 0.5787 - val_loss: 0.4603 - val_accuracy: 0.7891\n",
            "Epoch 2/10\n",
            "329/329 [==============================] - 17s 52ms/step - loss: 0.3119 - accuracy: 0.8769 - val_loss: 0.4390 - val_accuracy: 0.8020\n",
            "Epoch 3/10\n",
            "329/329 [==============================] - 17s 53ms/step - loss: 0.1152 - accuracy: 0.9662 - val_loss: 0.5192 - val_accuracy: 0.7871\n",
            "Epoch 4/10\n",
            "329/329 [==============================] - 16s 48ms/step - loss: 0.0345 - accuracy: 0.9947 - val_loss: 0.6214 - val_accuracy: 0.7702\n",
            "Epoch 5/10\n",
            "329/329 [==============================] - 14s 43ms/step - loss: 0.0127 - accuracy: 0.9988 - val_loss: 0.6660 - val_accuracy: 0.7864\n",
            "Epoch 6/10\n",
            "329/329 [==============================] - 17s 53ms/step - loss: 0.0053 - accuracy: 0.9999 - val_loss: 0.7099 - val_accuracy: 0.7893\n",
            "Epoch 7/10\n",
            "329/329 [==============================] - 15s 44ms/step - loss: 0.0133 - accuracy: 0.9966 - val_loss: 0.7715 - val_accuracy: 0.7749\n",
            "Epoch 8/10\n",
            "329/329 [==============================] - 14s 43ms/step - loss: 0.0184 - accuracy: 0.9949 - val_loss: 0.8014 - val_accuracy: 0.7516\n",
            "Epoch 9/10\n",
            "329/329 [==============================] - 13s 41ms/step - loss: 0.0154 - accuracy: 0.9962 - val_loss: 0.8390 - val_accuracy: 0.7607\n",
            "Epoch 10/10\n",
            "329/329 [==============================] - 13s 40ms/step - loss: 0.0146 - accuracy: 0.9968 - val_loss: 0.8414 - val_accuracy: 0.7771\n"
          ]
        },
        {
          "data": {
            "text/plain": [
              "'  -----------  '"
            ]
          },
          "execution_count": 22,
          "metadata": {},
          "output_type": "execute_result"
        }
      ],
      "source": [
        "document_input = Input(shape=(max_words,), dtype=\"int32\")\n",
        "# Embedding Layer\n",
        "embedding = Embedding(\n",
        "    input_dim=num_words,\n",
        "    output_dim=embedding_size,\n",
        "    input_length=max_words,\n",
        "    trainable=True,\n",
        ")(document_input)\n",
        "simple_rnn = SimpleRNN(10, return_sequences=True)(embedding)\n",
        "output = Dense(1, activation=\"sigmoid\")(simple_rnn)\n",
        "model_2_1 = Model(inputs=document_input, outputs=output)\n",
        "model_2_1.summary()\n",
        "model_2_1.compile(loss=\"binary_crossentropy\", optimizer=\"adam\", metrics=[\"accuracy\"])\n",
        "hist_2_1 = model_2_1.fit(X_tr_pad, y_train_new, epochs=10, validation_split=0.3)\n"
      ]
    },
    {
      "cell_type": "markdown",
      "metadata": {},
      "source": [
        "\n",
        "### Evaluation\n"
      ]
    },
    {
      "cell_type": "code",
      "execution_count": 23,
      "metadata": {},
      "outputs": [
        {
          "name": "stdout",
          "output_type": "stream",
          "text": [
            "94/94 [==============================] - 0s 3ms/step - loss: 0.9606 - accuracy: 0.7557\n",
            "[0.9606159925460815, 0.7556666731834412]\n"
          ]
        }
      ],
      "source": [
        "accr_2_1 = model_2_1.evaluate(X_te_pad, y_test_new)\n",
        "print(accr_2_1)\n"
      ]
    },
    {
      "cell_type": "markdown",
      "metadata": {},
      "source": [
        "\n",
        "### Dropout to avoid over adjustment\n"
      ]
    },
    {
      "cell_type": "code",
      "execution_count": 24,
      "metadata": {},
      "outputs": [
        {
          "name": "stdout",
          "output_type": "stream",
          "text": [
            "Model: \"model_1\"\n",
            "_________________________________________________________________\n",
            "Layer (type)                 Output Shape              Param #   \n",
            "=================================================================\n",
            "input_2 (InputLayer)         [(None, 70)]              0         \n",
            "_________________________________________________________________\n",
            "embedding_2 (Embedding)      (None, 70, 30)            2319600   \n",
            "_________________________________________________________________\n",
            "simple_rnn_1 (SimpleRNN)     (None, 10)                410       \n",
            "_________________________________________________________________\n",
            "dropout (Dropout)            (None, 10)                0         \n",
            "_________________________________________________________________\n",
            "dense_3 (Dense)              (None, 1)                 11        \n",
            "=================================================================\n",
            "Total params: 2,320,021\n",
            "Trainable params: 2,320,021\n",
            "Non-trainable params: 0\n",
            "_________________________________________________________________\n",
            "Epoch 1/10\n",
            "329/329 [==============================] - 17s 48ms/step - loss: 0.6893 - accuracy: 0.5363 - val_loss: 0.5240 - val_accuracy: 0.7709\n",
            "Epoch 2/10\n",
            "329/329 [==============================] - 21s 65ms/step - loss: 0.4216 - accuracy: 0.8371 - val_loss: 0.4648 - val_accuracy: 0.7922\n",
            "Epoch 3/10\n",
            "329/329 [==============================] - 19s 59ms/step - loss: 0.2013 - accuracy: 0.9481 - val_loss: 0.4770 - val_accuracy: 0.7973\n",
            "Epoch 4/10\n",
            "329/329 [==============================] - 20s 60ms/step - loss: 0.1030 - accuracy: 0.9786 - val_loss: 0.5559 - val_accuracy: 0.7869\n",
            "Epoch 5/10\n",
            "329/329 [==============================] - 20s 60ms/step - loss: 0.0665 - accuracy: 0.9868 - val_loss: 0.6393 - val_accuracy: 0.7796\n",
            "Epoch 6/10\n",
            "329/329 [==============================] - 20s 60ms/step - loss: 0.0351 - accuracy: 0.9947 - val_loss: 0.6505 - val_accuracy: 0.7827\n",
            "Epoch 7/10\n",
            "329/329 [==============================] - 20s 61ms/step - loss: 0.0218 - accuracy: 0.9978 - val_loss: 0.7246 - val_accuracy: 0.7733\n",
            "Epoch 8/10\n",
            "329/329 [==============================] - 21s 63ms/step - loss: 0.0182 - accuracy: 0.9974 - val_loss: 0.7485 - val_accuracy: 0.7896\n",
            "Epoch 9/10\n",
            "329/329 [==============================] - 20s 60ms/step - loss: 0.0110 - accuracy: 0.9991 - val_loss: 0.8229 - val_accuracy: 0.7798\n",
            "Epoch 10/10\n",
            "329/329 [==============================] - 20s 60ms/step - loss: 0.0156 - accuracy: 0.9970 - val_loss: 1.0115 - val_accuracy: 0.7676\n"
          ]
        },
        {
          "data": {
            "text/plain": [
              "'  -----------  '"
            ]
          },
          "execution_count": 24,
          "metadata": {},
          "output_type": "execute_result"
        }
      ],
      "source": [
        "document_input = Input(shape=(max_words,), dtype=\"int32\")\n",
        "# Embedding Layer\n",
        "embedding = Embedding(\n",
        "    input_dim=num_words,\n",
        "    output_dim=embedding_size,\n",
        "    input_length=max_words,\n",
        "    trainable=True,\n",
        ")(document_input)\n",
        "simple_rnn = SimpleRNN(10, return_sequences=False)(embedding)\n",
        "dropout = Dropout(0.4)(simple_rnn)\n",
        "output = Dense(1, activation=\"sigmoid\")(dropout)\n",
        "model_2_2 = Model(inputs=document_input, outputs=output)\n",
        "model_2_2.summary()\n",
        "model_2_2.compile(loss=\"binary_crossentropy\", optimizer=\"adam\", metrics=[\"accuracy\"])\n",
        "hist_2_2 = model_2_2.fit(X_tr_pad, y_train_new, epochs=10, validation_split=0.3)\n"
      ]
    },
    {
      "cell_type": "markdown",
      "metadata": {},
      "source": [
        "\n",
        "### Dropout method explained\n",
        "\n",
        " Dropout is a **regularization** technique that uses the idea of **temporarily deactivating** neurons randomly in each layer for each training iteration, which prevents a neuron from memorizing a specific part of the training input. It is considered a regularization method, since it directly affects the updating of the weights for each iteration, thus avoiding **overfitting** . The greater the probability of Dropout, the greater the number of neurons will be deactivated during training. It should be noted that the same neurons are not always deactivated, for each training data different neurons will be deactivated. The deactivation consists in that the neuron does not participate in the result of the network and its weights are not updated in the backpropagation. It is important to note that when using the network to infer **new data** , the dropout will no longer be applied, that is, **all** the neurons will contribute to the result of the network, which is why the result could be **compensated** by multiplying the parameters by **1 - probability_dropout** at the time of inferring.\n"
      ]
    },
    {
      "cell_type": "markdown",
      "metadata": {},
      "source": [
        "\n",
        "### Evaluation\n"
      ]
    },
    {
      "cell_type": "code",
      "execution_count": 25,
      "metadata": {},
      "outputs": [
        {
          "name": "stdout",
          "output_type": "stream",
          "text": [
            "94/94 [==============================] - 0s 5ms/step - loss: 1.1066 - accuracy: 0.7530\n",
            "[1.1066360473632812, 0.753000020980835]\n"
          ]
        }
      ],
      "source": [
        "accr_2_2 = model_2_2.evaluate(X_te_pad, y_test_new)\n",
        "print(accr_2_2)\n"
      ]
    },
    {
      "cell_type": "markdown",
      "metadata": {},
      "source": [
        "\n",
        "# LSTM Network with Embedding\n"
      ]
    },
    {
      "cell_type": "code",
      "execution_count": 26,
      "metadata": {},
      "outputs": [
        {
          "name": "stdout",
          "output_type": "stream",
          "text": [
            "Model: \"model_2\"\n",
            "_________________________________________________________________\n",
            "Layer (type)                 Output Shape              Param #   \n",
            "=================================================================\n",
            "input_3 (InputLayer)         [(None, 70)]              0         \n",
            "_________________________________________________________________\n",
            "embedding_3 (Embedding)      (None, 70, 30)            2319600   \n",
            "_________________________________________________________________\n",
            "lstm (LSTM)                  (None, 10)                1640      \n",
            "_________________________________________________________________\n",
            "dropout_1 (Dropout)          (None, 10)                0         \n",
            "_________________________________________________________________\n",
            "dense_4 (Dense)              (None, 1)                 11        \n",
            "=================================================================\n",
            "Total params: 2,321,251\n",
            "Trainable params: 2,321,251\n",
            "Non-trainable params: 0\n",
            "_________________________________________________________________\n",
            "Epoch 1/10\n",
            "329/329 [==============================] - 28s 76ms/step - loss: 0.6263 - accuracy: 0.6287 - val_loss: 0.4038 - val_accuracy: 0.8220\n",
            "Epoch 2/10\n",
            "329/329 [==============================] - 24s 74ms/step - loss: 0.2847 - accuracy: 0.9032 - val_loss: 0.4023 - val_accuracy: 0.8182\n",
            "Epoch 3/10\n",
            "329/329 [==============================] - 28s 85ms/step - loss: 0.1332 - accuracy: 0.9647 - val_loss: 0.5701 - val_accuracy: 0.7971\n",
            "Epoch 4/10\n",
            "329/329 [==============================] - 30s 90ms/step - loss: 0.0759 - accuracy: 0.9831 - val_loss: 0.6761 - val_accuracy: 0.7964\n",
            "Epoch 5/10\n",
            "329/329 [==============================] - 25s 75ms/step - loss: 0.0456 - accuracy: 0.9906 - val_loss: 0.7344 - val_accuracy: 0.7960\n",
            "Epoch 6/10\n",
            "329/329 [==============================] - 24s 74ms/step - loss: 0.0290 - accuracy: 0.9950 - val_loss: 0.7563 - val_accuracy: 0.7909\n",
            "Epoch 7/10\n",
            "329/329 [==============================] - 24s 74ms/step - loss: 0.0278 - accuracy: 0.9941 - val_loss: 0.7654 - val_accuracy: 0.8000\n",
            "Epoch 8/10\n",
            "329/329 [==============================] - 24s 74ms/step - loss: 0.0217 - accuracy: 0.9964 - val_loss: 0.7914 - val_accuracy: 0.8007\n",
            "Epoch 9/10\n",
            "329/329 [==============================] - 24s 74ms/step - loss: 0.0166 - accuracy: 0.9965 - val_loss: 0.9113 - val_accuracy: 0.7951\n",
            "Epoch 10/10\n",
            "329/329 [==============================] - 25s 76ms/step - loss: 0.0089 - accuracy: 0.9992 - val_loss: 1.0973 - val_accuracy: 0.7871\n"
          ]
        },
        {
          "data": {
            "text/plain": [
              "'  -----------  '"
            ]
          },
          "execution_count": 26,
          "metadata": {},
          "output_type": "execute_result"
        }
      ],
      "source": [
        "document_input = Input(shape=(max_words,), dtype=\"int32\")\n",
        "# Embedding Layer\n",
        "embedding_layer = Embedding(\n",
        "    input_dim=num_words,\n",
        "    output_dim=embedding_size,\n",
        "    input_length=max_words,\n",
        "    trainable=True,\n",
        ")\n",
        "embedding = embedding_layer(document_input)\n",
        "lstm = LSTM(10, return_sequences=False)(embedding)\n",
        "dropout = Dropout(0.4)(lstm)\n",
        "output = Dense(1, activation=\"sigmoid\")(dropout)\n",
        "model_2_3 = Model(inputs=document_input, outputs=output)\n",
        "model_2_3.summary()\n",
        "model_2_3.compile(loss=\"binary_crossentropy\", optimizer=\"adam\", metrics=[\"accuracy\"])\n",
        "hist_2_3 = model_2_3.fit(X_tr_pad, y_train_new, epochs=10, validation_split=0.3)\n"
      ]
    },
    {
      "cell_type": "markdown",
      "metadata": {},
      "source": [
        "\n",
        "### Evaluation\n"
      ]
    },
    {
      "cell_type": "code",
      "execution_count": 27,
      "metadata": {},
      "outputs": [
        {
          "name": "stdout",
          "output_type": "stream",
          "text": [
            "94/94 [==============================] - 1s 8ms/step - loss: 1.1788 - accuracy: 0.7700\n",
            "[1.1787668466567993, 0.7699999809265137]\n"
          ]
        }
      ],
      "source": [
        "accr_2_3 = model_2_3.evaluate(X_te_pad, y_test_new)\n",
        "print(accr_2_3)\n"
      ]
    },
    {
      "cell_type": "markdown",
      "metadata": {},
      "source": [
        "\n",
        "### Error curves for training and validation data\n"
      ]
    },
    {
      "cell_type": "code",
      "execution_count": 28,
      "metadata": {},
      "outputs": [
        {
          "data": {
            "image/png": "[encoded data removed]",
            "text/plain": [
              "<Figure size 432x288 with 1 Axes>"
            ]
          },
          "metadata": {
            "needs_background": "light"
          },
          "output_type": "display_data"
        }
      ],
      "source": [
        "plt.title(\"Loss con Dropout V/S sin Dropout\")\n",
        "plt.plot(hist_2_1.history[\"loss\"], label=\"train\")  # , color=\"green\"\n",
        "plt.plot(hist_2_1.history[\"val_loss\"], label=\"val_loss\")\n",
        "plt.plot(hist_2_2.history[\"loss\"], label=\"train dropout\")\n",
        "plt.plot(hist_2_2.history[\"val_loss\"], label=\"val_loss dropout\")\n",
        "plt.legend()\n",
        "plt.show()\n"
      ]
    },
    {
      "cell_type": "code",
      "execution_count": 29,
      "metadata": {},
      "outputs": [
        {
          "name": "stdout",
          "output_type": "stream",
          "text": [
            "Model: \"model_3\"\n",
            "_________________________________________________________________\n",
            "Layer (type)                 Output Shape              Param #   \n",
            "=================================================================\n",
            "input_4 (InputLayer)         [(None, 70)]              0         \n",
            "_________________________________________________________________\n",
            "embedding_4 (Embedding)      (None, 70, 30)            2319600   \n",
            "_________________________________________________________________\n",
            "lstm_1 (LSTM)                (None, 10)                1640      \n",
            "_________________________________________________________________\n",
            "dropout_2 (Dropout)          (None, 10)                0         \n",
            "_________________________________________________________________\n",
            "dense_5 (Dense)              (None, 1)                 11        \n",
            "=================================================================\n",
            "Total params: 2,321,251\n",
            "Trainable params: 2,321,251\n",
            "Non-trainable params: 0\n",
            "_________________________________________________________________\n",
            "Epoch 1/10\n",
            "329/329 [==============================] - 31s 84ms/step - loss: 0.6586 - accuracy: 0.5927 - val_loss: 0.4427 - val_accuracy: 0.8158\n",
            "Epoch 2/10\n",
            "329/329 [==============================] - 27s 82ms/step - loss: 0.3796 - accuracy: 0.8672 - val_loss: 0.4120 - val_accuracy: 0.8167\n",
            "Epoch 3/10\n",
            "329/329 [==============================] - 24s 74ms/step - loss: 0.2403 - accuracy: 0.9294 - val_loss: 0.4143 - val_accuracy: 0.8176\n",
            "Epoch 4/10\n",
            "329/329 [==============================] - 27s 81ms/step - loss: 0.1553 - accuracy: 0.9595 - val_loss: 0.5216 - val_accuracy: 0.8051\n",
            "Epoch 5/10\n",
            "329/329 [==============================] - 27s 81ms/step - loss: 0.1025 - accuracy: 0.9735 - val_loss: 0.7413 - val_accuracy: 0.7949\n",
            "Epoch 6/10\n",
            "329/329 [==============================] - 27s 81ms/step - loss: 0.0813 - accuracy: 0.9764 - val_loss: 0.6907 - val_accuracy: 0.8024\n",
            "Epoch 7/10\n",
            "329/329 [==============================] - 24s 74ms/step - loss: 0.0638 - accuracy: 0.9806 - val_loss: 0.8250 - val_accuracy: 0.7927\n",
            "Epoch 8/10\n",
            "329/329 [==============================] - 24s 74ms/step - loss: 0.0574 - accuracy: 0.9798 - val_loss: 0.9744 - val_accuracy: 0.7862\n",
            "Epoch 9/10\n",
            "329/329 [==============================] - 24s 74ms/step - loss: 0.0447 - accuracy: 0.9852 - val_loss: 1.0232 - val_accuracy: 0.7844\n",
            "Epoch 10/10\n",
            "329/329 [==============================] - 24s 73ms/step - loss: 0.0568 - accuracy: 0.9761 - val_loss: 0.8458 - val_accuracy: 0.7942\n"
          ]
        }
      ],
      "source": [
        "document_input = Input(shape=(max_words,), dtype=\"int32\")\n",
        "# Embedding Layer\n",
        "embedding_layer = Embedding(\n",
        "    input_dim=num_words,\n",
        "    output_dim=embedding_size,\n",
        "    input_length=max_words,\n",
        "    trainable=True,\n",
        ")\n",
        "embedding = embedding_layer(document_input)\n",
        "lstm = LSTM(10, return_sequences=False)(embedding)\n",
        "dropout = Dropout(0.7)(lstm)\n",
        "output = Dense(1, activation=\"sigmoid\")(dropout)\n",
        "model_2_3_1 = Model(inputs=document_input, outputs=output)\n",
        "model_2_3_1.summary()\n",
        "model_2_3_1.compile(loss=\"binary_crossentropy\", optimizer=\"adam\", metrics=[\"accuracy\"])\n",
        "hist_2_3_1 = model_2_3_1.fit(X_tr_pad, y_train_new, epochs=10, validation_split=0.3)\n"
      ]
    },
    {
      "cell_type": "code",
      "execution_count": 30,
      "metadata": {},
      "outputs": [
        {
          "name": "stdout",
          "output_type": "stream",
          "text": [
            "Model: \"model_4\"\n",
            "_________________________________________________________________\n",
            "Layer (type)                 Output Shape              Param #   \n",
            "=================================================================\n",
            "input_5 (InputLayer)         [(None, 70)]              0         \n",
            "_________________________________________________________________\n",
            "embedding_5 (Embedding)      (None, 70, 30)            2319600   \n",
            "_________________________________________________________________\n",
            "lstm_2 (LSTM)                (None, 5)                 720       \n",
            "_________________________________________________________________\n",
            "dropout_3 (Dropout)          (None, 5)                 0         \n",
            "_________________________________________________________________\n",
            "dense_6 (Dense)              (None, 1)                 6         \n",
            "=================================================================\n",
            "Total params: 2,320,326\n",
            "Trainable params: 2,320,326\n",
            "Non-trainable params: 0\n",
            "_________________________________________________________________\n",
            "Epoch 1/10\n",
            "329/329 [==============================] - 30s 81ms/step - loss: 0.6511 - accuracy: 0.6180 - val_loss: 0.4907 - val_accuracy: 0.7931\n",
            "Epoch 2/10\n",
            "329/329 [==============================] - 27s 81ms/step - loss: 0.4384 - accuracy: 0.8091 - val_loss: 0.4293 - val_accuracy: 0.8131\n",
            "Epoch 3/10\n",
            "329/329 [==============================] - 24s 74ms/step - loss: 0.3379 - accuracy: 0.8547 - val_loss: 0.4118 - val_accuracy: 0.8191\n",
            "Epoch 4/10\n",
            "329/329 [==============================] - 24s 72ms/step - loss: 0.2679 - accuracy: 0.8861 - val_loss: 0.4678 - val_accuracy: 0.8036\n",
            "Epoch 5/10\n",
            "329/329 [==============================] - 26s 80ms/step - loss: 0.2193 - accuracy: 0.8958 - val_loss: 0.4841 - val_accuracy: 0.8013\n",
            "Epoch 6/10\n",
            "329/329 [==============================] - 27s 83ms/step - loss: 0.1878 - accuracy: 0.9073 - val_loss: 0.5502 - val_accuracy: 0.7984\n",
            "Epoch 7/10\n",
            "329/329 [==============================] - 24s 73ms/step - loss: 0.1702 - accuracy: 0.9035 - val_loss: 0.5939 - val_accuracy: 0.7964\n",
            "Epoch 8/10\n",
            "329/329 [==============================] - 24s 73ms/step - loss: 0.1692 - accuracy: 0.9102 - val_loss: 0.6786 - val_accuracy: 0.7876\n",
            "Epoch 9/10\n",
            "329/329 [==============================] - 26s 79ms/step - loss: 0.1443 - accuracy: 0.9118 - val_loss: 0.7583 - val_accuracy: 0.7856\n",
            "Epoch 10/10\n",
            "329/329 [==============================] - 26s 78ms/step - loss: 0.1476 - accuracy: 0.9125 - val_loss: 0.7709 - val_accuracy: 0.7789\n"
          ]
        }
      ],
      "source": [
        "document_input = Input(shape=(max_words,), dtype=\"int32\")\n",
        "# Embedding Layer\n",
        "embedding_layer = Embedding(\n",
        "    input_dim=num_words,\n",
        "    output_dim=embedding_size,\n",
        "    input_length=max_words,\n",
        "    trainable=True,\n",
        ")\n",
        "embedding = embedding_layer(document_input)\n",
        "lstm = LSTM(5, return_sequences=False)(embedding)\n",
        "dropout = Dropout(0.7)(lstm)\n",
        "output = Dense(1, activation=\"sigmoid\")(dropout)\n",
        "model_2_3_2 = Model(inputs=document_input, outputs=output)\n",
        "model_2_3_2.summary()\n",
        "model_2_3_2.compile(loss=\"binary_crossentropy\", optimizer=\"adam\", metrics=[\"accuracy\"])\n",
        "hist_2_3_2 = model_2_3_2.fit(X_tr_pad, y_train_new, epochs=10, validation_split=0.3)\n"
      ]
    },
    {
      "cell_type": "code",
      "execution_count": 31,
      "metadata": {},
      "outputs": [
        {
          "name": "stdout",
          "output_type": "stream",
          "text": [
            "Model: \"model_5\"\n",
            "_________________________________________________________________\n",
            "Layer (type)                 Output Shape              Param #   \n",
            "=================================================================\n",
            "input_6 (InputLayer)         [(None, 70)]              0         \n",
            "_________________________________________________________________\n",
            "embedding_6 (Embedding)      (None, 70, 30)            2319600   \n",
            "_________________________________________________________________\n",
            "lstm_3 (LSTM)                (None, 10)                1640      \n",
            "_________________________________________________________________\n",
            "layer_normalization (LayerNo (None, 10)                20        \n",
            "_________________________________________________________________\n",
            "dropout_4 (Dropout)          (None, 10)                0         \n",
            "_________________________________________________________________\n",
            "dense_7 (Dense)              (None, 1)                 11        \n",
            "=================================================================\n",
            "Total params: 2,321,271\n",
            "Trainable params: 2,321,271\n",
            "Non-trainable params: 0\n",
            "_________________________________________________________________\n",
            "Epoch 1/10\n",
            "329/329 [==============================] - 31s 83ms/step - loss: 0.6539 - accuracy: 0.6114 - val_loss: 0.4272 - val_accuracy: 0.8024\n",
            "Epoch 2/10\n",
            "329/329 [==============================] - 26s 80ms/step - loss: 0.2825 - accuracy: 0.9005 - val_loss: 0.4391 - val_accuracy: 0.8093\n",
            "Epoch 3/10\n",
            "329/329 [==============================] - 23s 70ms/step - loss: 0.1331 - accuracy: 0.9614 - val_loss: 0.5684 - val_accuracy: 0.8000\n",
            "Epoch 4/10\n",
            "329/329 [==============================] - 23s 70ms/step - loss: 0.0589 - accuracy: 0.9867 - val_loss: 0.7987 - val_accuracy: 0.7784\n",
            "Epoch 5/10\n",
            "329/329 [==============================] - 24s 73ms/step - loss: 0.0432 - accuracy: 0.9888 - val_loss: 0.8211 - val_accuracy: 0.7924\n",
            "Epoch 6/10\n",
            "329/329 [==============================] - 24s 73ms/step - loss: 0.0332 - accuracy: 0.9917 - val_loss: 0.9237 - val_accuracy: 0.7931\n",
            "Epoch 7/10\n",
            "329/329 [==============================] - 25s 75ms/step - loss: 0.0241 - accuracy: 0.9941 - val_loss: 1.1571 - val_accuracy: 0.7791\n",
            "Epoch 8/10\n",
            "329/329 [==============================] - 26s 78ms/step - loss: 0.0277 - accuracy: 0.9935 - val_loss: 1.0631 - val_accuracy: 0.7813\n",
            "Epoch 9/10\n",
            "329/329 [==============================] - 25s 77ms/step - loss: 0.0311 - accuracy: 0.9908 - val_loss: 1.0092 - val_accuracy: 0.7844\n",
            "Epoch 10/10\n",
            "329/329 [==============================] - 23s 70ms/step - loss: 0.0190 - accuracy: 0.9949 - val_loss: 1.1205 - val_accuracy: 0.7893\n"
          ]
        }
      ],
      "source": [
        "document_input = Input(shape=(max_words,), dtype=\"int32\")\n",
        "# Embedding Layer\n",
        "embedding_layer = Embedding(\n",
        "    input_dim=num_words,\n",
        "    output_dim=embedding_size,\n",
        "    input_length=max_words,\n",
        "    trainable=True,\n",
        ")\n",
        "embedding = embedding_layer(document_input)\n",
        "lstm = LSTM(10, return_sequences=False)(embedding)\n",
        "normalization = LayerNormalization()(lstm)\n",
        "dropout = Dropout(0.4)(normalization)\n",
        "output = Dense(1, activation=\"sigmoid\")(dropout)\n",
        "model_2_3_3 = Model(inputs=document_input, outputs=output)\n",
        "model_2_3_3.summary()\n",
        "model_2_3_3.compile(loss=\"binary_crossentropy\", optimizer=\"adam\", metrics=[\"accuracy\"])\n",
        "hist_2_3_3 = model_2_3_3.fit(X_tr_pad, y_train_new, epochs=10, validation_split=0.3)\n"
      ]
    },
    {
      "cell_type": "code",
      "execution_count": 32,
      "metadata": {},
      "outputs": [
        {
          "name": "stdout",
          "output_type": "stream",
          "text": [
            "Model: \"model_6\"\n",
            "_________________________________________________________________\n",
            "Layer (type)                 Output Shape              Param #   \n",
            "=================================================================\n",
            "input_7 (InputLayer)         [(None, 70)]              0         \n",
            "_________________________________________________________________\n",
            "embedding_7 (Embedding)      (None, 70, 30)            2319600   \n",
            "_________________________________________________________________\n",
            "lstm_4 (LSTM)                (None, 2)                 264       \n",
            "_________________________________________________________________\n",
            "layer_normalization_1 (Layer (None, 2)                 4         \n",
            "_________________________________________________________________\n",
            "dropout_5 (Dropout)          (None, 2)                 0         \n",
            "_________________________________________________________________\n",
            "dense_8 (Dense)              (None, 1)                 3         \n",
            "=================================================================\n",
            "Total params: 2,319,871\n",
            "Trainable params: 2,319,871\n",
            "Non-trainable params: 0\n",
            "_________________________________________________________________\n",
            "Epoch 1/10\n",
            "329/329 [==============================] - 21s 58ms/step - loss: 0.7053 - accuracy: 0.5214 - val_loss: 0.6714 - val_accuracy: 0.6198\n",
            "Epoch 2/10\n",
            "329/329 [==============================] - 18s 54ms/step - loss: 0.6676 - accuracy: 0.5614 - val_loss: 0.6069 - val_accuracy: 0.6836\n",
            "Epoch 3/10\n",
            "329/329 [==============================] - 20s 61ms/step - loss: 0.5707 - accuracy: 0.6107 - val_loss: 0.5432 - val_accuracy: 0.7240\n",
            "Epoch 4/10\n",
            "329/329 [==============================] - 18s 53ms/step - loss: 0.4725 - accuracy: 0.6307 - val_loss: 0.5153 - val_accuracy: 0.7482\n",
            "Epoch 5/10\n",
            "329/329 [==============================] - 16s 48ms/step - loss: 0.4048 - accuracy: 0.8412 - val_loss: 0.4964 - val_accuracy: 0.7684\n",
            "Epoch 6/10\n",
            "329/329 [==============================] - 16s 48ms/step - loss: 0.3201 - accuracy: 0.8796 - val_loss: 0.5444 - val_accuracy: 0.7684\n",
            "Epoch 7/10\n",
            "329/329 [==============================] - 16s 50ms/step - loss: 0.2266 - accuracy: 0.8974 - val_loss: 0.6041 - val_accuracy: 0.7669\n",
            "Epoch 8/10\n",
            "329/329 [==============================] - 16s 50ms/step - loss: 0.1739 - accuracy: 0.9093 - val_loss: 0.7106 - val_accuracy: 0.7653\n",
            "Epoch 9/10\n",
            "329/329 [==============================] - 16s 49ms/step - loss: 0.1373 - accuracy: 0.9174 - val_loss: 0.7721 - val_accuracy: 0.7722\n",
            "Epoch 10/10\n",
            "329/329 [==============================] - 17s 50ms/step - loss: 0.1404 - accuracy: 0.9131 - val_loss: 0.8640 - val_accuracy: 0.7744\n"
          ]
        }
      ],
      "source": [
        "document_input = Input(shape=(max_words,), dtype=\"int32\")\n",
        "# Embedding Layer\n",
        "embedding_layer = Embedding(\n",
        "    input_dim=num_words,\n",
        "    output_dim=embedding_size,\n",
        "    input_length=max_words,\n",
        "    trainable=True,\n",
        ")\n",
        "embedding = embedding_layer(document_input)\n",
        "lstm = LSTM(2, return_sequences=False)(embedding)\n",
        "normalization = LayerNormalization()(lstm)\n",
        "dropout = Dropout(0.4)(normalization)\n",
        "output = Dense(1, activation=\"sigmoid\")(dropout)\n",
        "model_2_3_4 = Model(inputs=document_input, outputs=output)\n",
        "model_2_3_4.summary()\n",
        "model_2_3_4.compile(loss=\"binary_crossentropy\", optimizer=\"adam\", metrics=[\"accuracy\"])\n",
        "hist_2_3_4 = model_2_3_4.fit(X_tr_pad, y_train_new, epochs=10, validation_split=0.3)\n"
      ]
    },
    {
      "cell_type": "code",
      "execution_count": 33,
      "metadata": {},
      "outputs": [
        {
          "name": "stdout",
          "output_type": "stream",
          "text": [
            "Model: \"model_7\"\n",
            "_________________________________________________________________\n",
            "Layer (type)                 Output Shape              Param #   \n",
            "=================================================================\n",
            "input_8 (InputLayer)         [(None, 70)]              0         \n",
            "_________________________________________________________________\n",
            "embedding_8 (Embedding)      (None, 70, 30)            2319600   \n",
            "_________________________________________________________________\n",
            "lstm_5 (LSTM)                (None, 10)                1640      \n",
            "_________________________________________________________________\n",
            "layer_normalization_2 (Layer (None, 10)                20        \n",
            "_________________________________________________________________\n",
            "dropout_6 (Dropout)          (None, 10)                0         \n",
            "_________________________________________________________________\n",
            "dense_9 (Dense)              (None, 1)                 11        \n",
            "=================================================================\n",
            "Total params: 2,321,271\n",
            "Trainable params: 2,321,271\n",
            "Non-trainable params: 0\n",
            "_________________________________________________________________\n",
            "Epoch 1/10\n",
            "329/329 [==============================] - 22s 58ms/step - loss: 0.7145 - accuracy: 0.5788 - val_loss: 0.5046 - val_accuracy: 0.7456\n",
            "Epoch 2/10\n",
            "329/329 [==============================] - 18s 55ms/step - loss: 0.4107 - accuracy: 0.8327 - val_loss: 0.4362 - val_accuracy: 0.8116\n",
            "Epoch 3/10\n",
            "329/329 [==============================] - 18s 55ms/step - loss: 0.2184 - accuracy: 0.9296 - val_loss: 0.5312 - val_accuracy: 0.7942\n",
            "Epoch 4/10\n",
            "329/329 [==============================] - 18s 55ms/step - loss: 0.1512 - accuracy: 0.9539 - val_loss: 0.6542 - val_accuracy: 0.7896\n",
            "Epoch 5/10\n",
            "329/329 [==============================] - 18s 56ms/step - loss: 0.1025 - accuracy: 0.9692 - val_loss: 0.7681 - val_accuracy: 0.7904\n",
            "Epoch 6/10\n",
            "329/329 [==============================] - 18s 56ms/step - loss: 0.0875 - accuracy: 0.9703 - val_loss: 0.9799 - val_accuracy: 0.7631\n",
            "Epoch 7/10\n",
            "329/329 [==============================] - 18s 55ms/step - loss: 0.0976 - accuracy: 0.9685 - val_loss: 0.9548 - val_accuracy: 0.7753\n",
            "Epoch 8/10\n",
            "329/329 [==============================] - 18s 56ms/step - loss: 0.0674 - accuracy: 0.9786 - val_loss: 0.9871 - val_accuracy: 0.7876\n",
            "Epoch 9/10\n",
            "329/329 [==============================] - 18s 56ms/step - loss: 0.0609 - accuracy: 0.9768 - val_loss: 1.1044 - val_accuracy: 0.7833\n",
            "Epoch 10/10\n",
            "329/329 [==============================] - 18s 56ms/step - loss: 0.0545 - accuracy: 0.9797 - val_loss: 1.1366 - val_accuracy: 0.7867\n"
          ]
        }
      ],
      "source": [
        "document_input = Input(shape=(max_words,), dtype=\"int32\")\n",
        "# Embedding Layer\n",
        "embedding_layer = Embedding(\n",
        "    input_dim=num_words,\n",
        "    output_dim=embedding_size,\n",
        "    input_length=max_words,\n",
        "    trainable=True,\n",
        ")\n",
        "embedding = embedding_layer(document_input)\n",
        "lstm = LSTM(10, return_sequences=False)(embedding)\n",
        "normalization = LayerNormalization()(lstm)\n",
        "dropout = Dropout(0.7)(normalization)\n",
        "output = Dense(1, activation=\"sigmoid\")(dropout)\n",
        "model_2_3_5 = Model(inputs=document_input, outputs=output)\n",
        "model_2_3_5.summary()\n",
        "model_2_3_5.compile(loss=\"binary_crossentropy\", optimizer=\"adam\", metrics=[\"accuracy\"])\n",
        "hist_2_3_5 = model_2_3_5.fit(X_tr_pad, y_train_new, epochs=10, validation_split=0.3)\n"
      ]
    },
    {
      "cell_type": "code",
      "execution_count": 59,
      "metadata": {},
      "outputs": [
        {
          "data": {
            "image/png": "[encoded data removed]",
            "text/plain": [
              "<Figure size 1080x720 with 1 Axes>"
            ]
          },
          "metadata": {
            "needs_background": "light"
          },
          "output_type": "display_data"
        }
      ],
      "source": [
        "plt.figure(figsize=(15, 10))\n",
        "plt.title(\"Loss con Dropout V/S sin Dropout\")\n",
        "plt.plot(\n",
        "    hist_2_3_1.history[\"loss\"], label=\"train 10 lstm dropout 0.7\"\n",
        ")  # , color=\"green\"\n",
        "plt.plot(hist_2_3_1.history[\"val_loss\"], label=\"val_loss 10 lstm dropout 0.7\")\n",
        "plt.plot(hist_2_3_2.history[\"loss\"], label=\"train 5 lstm dropout 0.7\")\n",
        "plt.plot(hist_2_3_2.history[\"val_loss\"], label=\"val_loss 5 lstm dropout 0.7\")\n",
        "plt.plot(hist_2_3_3.history[\"loss\"], label=\"train  10 lstm dropout 0.4 L.N\")\n",
        "plt.plot(hist_2_3_3.history[\"val_loss\"], label=\"val_loss 10 lstm dropout 0.4 L.N\")\n",
        "plt.plot(hist_2_3_4.history[\"loss\"], label=\"train 2 lstm dropout 0.4 L.N\")\n",
        "plt.plot(hist_2_3_4.history[\"val_loss\"], label=\"val_loss 2 lstm dropout 0.4 L.N\")\n",
        "plt.plot(hist_2_3_5.history[\"loss\"], label=\"train 10 lstm dropout 0.7 L.N\")\n",
        "plt.plot(hist_2_3_5.history[\"val_loss\"], label=\"val_loss 10 lstm dropout 0.7 L.N\")\n",
        "plt.legend()\n",
        "plt.show()\n"
      ]
    },
    {
      "cell_type": "markdown",
      "metadata": {},
      "source": [
        "\n",
        "## Conclusions\n",
        "\n",
        " **Initial models:**\n",
        "\n",
        " It is observed that both models have overfitting problems, since the loss in the training set continues to decrease, however, in the validation set the error begins to grow considerably. To correct this problem, the number of neurons in the network should be reduced or regularization methods added such as: Dropout or LayerNormalization (BatchNormalization does not apply to RNNs). On the other hand, it is observed that the dropout-trained network has fewer **overfitting** problems than the non-dropout network, so increasing the dropout probability could help improve the generalizability of the network.\n",
        "\n",
        " **Other combinations:**\n",
        "\n",
        " As can be seen, networks with a greater number of LSTM cells tend to have a greater error in the validation set, that is, they overfit more. It is worth noting that applying layer normalization reduces errors in the validation set. curves val_loss 10 lstm dropout 0.7 and val_loss 10 lstm dropout 0.7 LN On the other hand, it is observed that increasing dropout from 0.4 to 0.7 does not generate large differences in the results, except in the lstm with 2 and 5 cells. Finally, the greatest reduction in overfitting is obtained by reducing the complexity of the model, which is why the error curves of the validation set represent lower values for the models with 2 and 5 lstm cells. From the foregoing, it is concluded that modifying the architecture (hyperparameter) of the model allows making large adjustments to avoid overfitting or underfitting, however, for more precise adjustments, it is possible to play with the Dropout and Layer normalization type hyperparameters.\n"
      ]
    },
    {
      "cell_type": "markdown",
      "metadata": {},
      "source": [
        "\n",
        "# Unsupervised Learning\n",
        "\n",
        " In this section we will implement dimensionality reduction methods and evaluate their application on the sentiment classification problem.\n"
      ]
    },
    {
      "cell_type": "code",
      "execution_count": 35,
      "metadata": {},
      "outputs": [],
      "source": [
        "# Obtención de embeddings\n",
        "embeddings = embedding_layer.get_weights()[\n",
        "    0\n",
        "]  # capa utilizada para hacer los embeddings\n",
        "words_embeddings = {w: embeddings[idx] for w, idx in tokenizer.word_index.items()}\n"
      ]
    },
    {
      "cell_type": "code",
      "execution_count": 36,
      "metadata": {},
      "outputs": [
        {
          "data": {
            "text/plain": [
              "77319"
            ]
          },
          "execution_count": 36,
          "metadata": {},
          "output_type": "execute_result"
        }
      ],
      "source": [
        "len(list(words_embeddings.items()))\n"
      ]
    },
    {
      "cell_type": "code",
      "execution_count": 37,
      "metadata": {},
      "outputs": [],
      "source": [
        "sample_keys_embeddings = np.random.choice(\n",
        "    list(words_embeddings.keys()), size=5000, replace=False\n",
        ")\n",
        "sample_words_embeddings = {}\n",
        "for key in sample_keys_embeddings:\n",
        "    sample_words_embeddings[key] = words_embeddings[key]\n"
      ]
    },
    {
      "cell_type": "markdown",
      "metadata": {},
      "source": [
        "\n",
        "PCA application to embeddings:\n"
      ]
    },
    {
      "cell_type": "code",
      "execution_count": 38,
      "metadata": {},
      "outputs": [],
      "source": [
        "embeddings_pca = PCA(n_components=10)\n",
        "embedding_pca_values = embeddings_pca.fit_transform(\n",
        "    list(sample_words_embeddings.values())\n",
        ")\n",
        "for i, key in enumerate(sample_keys_embeddings):\n",
        "    sample_words_embeddings[key] = embedding_pca_values[i]\n"
      ]
    },
    {
      "cell_type": "markdown",
      "metadata": {},
      "source": [
        "\n",
        "Application of TSNE to embeddings:\n"
      ]
    },
    {
      "cell_type": "code",
      "execution_count": 39,
      "metadata": {},
      "outputs": [],
      "source": [
        "embeddings_tsne = TSNE(n_components=2)\n",
        "embeddings_tsne_values = embeddings_tsne.fit_transform(\n",
        "    list(sample_words_embeddings.values())\n",
        ")\n"
      ]
    },
    {
      "cell_type": "markdown",
      "metadata": {},
      "source": [
        "\n",
        "### T-SNE method explanation\n",
        "\n",
        " The t-sne method can be divided into two important steps, the first is the construction of a **probability distribution** from the **similarity** between pairs of points in the original space of the dataset and the second is to construct a probability distribution in the space of **lower dimensionality** based on the distribution constructed in step 1.\n",
        "\n",
        " To build the distribution in the **high-dimensional** space, the similarity between each pair of points is calculated, this similarity is calculated with the **distance to the neighbors** and also, building a **Gaussian distribution** centered on each point where the probability density is calculated given the frequency of the neighbors within the radius of the Gaussian, that is, **density and distance** to the central point are considered.\n",
        "\n",
        " In step 2, we seek to construct a probability distribution in the low-dimensional space by minimizing the **Kullback-Leibler divergence** between the distribution in the high- and low-dimensional space. The Kullback-Leibler divergence measures the similarity or difference between two probability distribution functions. Each data point in the high-dimensional space is randomly mapped to the low-dimensional space based on the probability distribution computed by **minimizing** the Kullback-Leibler divergence. The utility of the method is that you can visualize the relationships of an **x-dimensional** dataset with x&gt;=4 in a **human-readable 2d or 3d space.**\n"
      ]
    },
    {
      "cell_type": "markdown",
      "metadata": {},
      "source": [
        "\n",
        "Next we will graph the result of applying T-SNE to the embeddings:\n"
      ]
    },
    {
      "cell_type": "code",
      "execution_count": 40,
      "metadata": {},
      "outputs": [
        {
          "data": {
            "text/plain": [
              "<matplotlib.collections.PathCollection at 0x2ee931b06d0>"
            ]
          },
          "execution_count": 40,
          "metadata": {},
          "output_type": "execute_result"
        },
        {
          "data": {
            "image/png": "[encoded data removed]",
            "text/plain": [
              "<Figure size 432x288 with 1 Axes>"
            ]
          },
          "metadata": {
            "needs_background": "light"
          },
          "output_type": "display_data"
        }
      ],
      "source": [
        "plt.scatter(embeddings_tsne_values[:, 0], embeddings_tsne_values[:, 1])\n"
      ]
    },
    {
      "cell_type": "markdown",
      "metadata": {},
      "source": [
        "\n",
        "Embedding clustering with KMeans methods:\n"
      ]
    },
    {
      "cell_type": "code",
      "execution_count": 60,
      "metadata": {},
      "outputs": [],
      "source": [
        "kmeans = KMeans(n_clusters=3).fit(embeddings_tsne_values)\n",
        "gm = GaussianMixture(n_components=3, random_state=0).fit(embeddings_tsne_values)\n"
      ]
    },
    {
      "cell_type": "markdown",
      "metadata": {},
      "source": [
        "\n",
        "Cluster analysis:\n"
      ]
    },
    {
      "cell_type": "code",
      "execution_count": 61,
      "metadata": {},
      "outputs": [
        {
          "name": "stdout",
          "output_type": "stream",
          "text": [
            "Algunas palabras en el cluster 0\n",
            "[['till']\n",
            " ['fore']\n",
            " ['reed']\n",
            " ['reflection']\n",
            " [\"script'\"]\n",
            " ['attentively']\n",
            " ['terrific']\n",
            " ['colorful']\n",
            " ['passages']\n",
            " ['buckaroo']]\n",
            "Algunas palabras en el cluster 1\n",
            "[['scam']\n",
            " ['demonstrations']\n",
            " ['karate']\n",
            " ['valuables']\n",
            " ['dishonor']\n",
            " ['sybil']\n",
            " ['nonlds']\n",
            " ['spike']\n",
            " ['derailed']\n",
            " ['napoleonic']]\n",
            "Algunas palabras en el cluster 2\n",
            "[['emulating']\n",
            " ['retrieval']\n",
            " ['imus']\n",
            " ['vor']\n",
            " ['raffin']\n",
            " ['shallowest']\n",
            " ['shockless']\n",
            " [\"back'\"]\n",
            " [\"kathy's\"]\n",
            " [\"'hall\"]]\n"
          ]
        },
        {
          "data": {
            "image/png": "[encoded data removed]",
            "text/plain": [
              "<Figure size 432x288 with 1 Axes>"
            ]
          },
          "metadata": {
            "needs_background": "light"
          },
          "output_type": "display_data"
        }
      ],
      "source": [
        "for i in range(3):\n",
        "    cluster = np.take(embeddings_tsne_values, np.argwhere(kmeans.labels_ == i), axis=0)[\n",
        "        :, 0\n",
        "    ]\n",
        "    plt.scatter(cluster[:, 0], cluster[:, 1], color=plt.cm.Spectral((i / k)))\n",
        "    palabras = np.take(sample_keys_embeddings, np.argwhere(kmeans.labels_ == i))[0:10]\n",
        "    print(f\"Algunas palabras en el cluster {i}\")\n",
        "    print(palabras)\n",
        "plt.title(\"Cluster con K-Means\")\n",
        "plt.show()\n"
      ]
    },
    {
      "cell_type": "code",
      "execution_count": 63,
      "metadata": {},
      "outputs": [
        {
          "name": "stdout",
          "output_type": "stream",
          "text": [
            "Algunas palabras en el cluster 0\n",
            "[['till']\n",
            " ['fore']\n",
            " ['reed']\n",
            " ['reflection']\n",
            " [\"script'\"]\n",
            " ['attentively']\n",
            " ['terrific']\n",
            " ['colorful']\n",
            " ['passages']\n",
            " ['buckaroo']]\n",
            "Algunas palabras en el cluster 1\n",
            "[['scam']\n",
            " ['demonstrations']\n",
            " ['karate']\n",
            " ['valuables']\n",
            " ['dishonor']\n",
            " ['sybil']\n",
            " ['nonlds']\n",
            " ['spike']\n",
            " ['derailed']\n",
            " ['napoleonic']]\n",
            "Algunas palabras en el cluster 2\n",
            "[['emulating']\n",
            " ['retrieval']\n",
            " ['imus']\n",
            " ['vor']\n",
            " ['raffin']\n",
            " ['shallowest']\n",
            " ['shockless']\n",
            " [\"back'\"]\n",
            " [\"kathy's\"]\n",
            " [\"'hall\"]]\n"
          ]
        },
        {
          "data": {
            "image/png": "[encoded data removed]",
            "text/plain": [
              "<Figure size 432x288 with 1 Axes>"
            ]
          },
          "metadata": {
            "needs_background": "light"
          },
          "output_type": "display_data"
        }
      ],
      "source": [
        "predict = gm.predict(embeddings_tsne_values)\n",
        "for i in range(3):\n",
        "    cluster = np.take(embeddings_tsne_values, np.argwhere(predict == i), axis=0)[:, 0]\n",
        "    plt.scatter(cluster[:, 0], cluster[:, 1], color=plt.cm.Spectral((i / k)))\n",
        "    palabras = np.take(sample_keys_embeddings, np.argwhere(kmeans.labels_ == i))[0:10]\n",
        "    print(f\"Algunas palabras en el cluster {i}\")\n",
        "    print(palabras)\n",
        "plt.title(\"Cluster con Mezcla de Gaussianas\")\n",
        "plt.show()\n"
      ]
    },
    {
      "cell_type": "markdown",
      "metadata": {},
      "source": [
        "\n",
        "### Conclusions\n",
        "\n",
        " Three possible clusters are observed, a central one with an oval shape and two lateral ones similar to wings. It is concluded that given the difference in size in the clusters, the k-means algorithm fails to correctly separate the clusters, on the other hand, the Gaussian mixture algorithm obtains a very good result in the identification and separation of clusters. As expected, the words belonging to the same cluster do not seem to have a relationship at first glance, given that we have 5000 words, it is complex to group them into only 3 categories, each cluster could represent some latent variable of the vocabulary that is not necessarily interpretable by a user. human being.\n"
      ]
    },
    {
      "cell_type": "markdown",
      "metadata": {},
      "source": [
        "\n",
        "# LSTM network with GLOVE embedding (Extra)\n",
        "\n",
        " We will download the pre-trained embeddings from [https://nlp.stanford.edu/projects/glove/](https://nlp.stanford.edu/projects/glove/)\n"
      ]
    },
    {
      "cell_type": "code",
      "execution_count": 44,
      "metadata": {},
      "outputs": [],
      "source": [
        "# Funciones para cargar los vectores GLOVE\n",
        "def glorot_uniform_np(shape):\n",
        "    fan_in, fan_out = shape[0], shape[1]\n",
        "    s = np.sqrt(6.0 / (fan_in + fan_out))\n",
        "    return np.random.uniform(-s, s, size=shape)\n",
        "\n",
        "\n",
        "def load_word_vectors(embeddings_index, glove_file):\n",
        "    print(\"Indexing word vectors.\")\n",
        "    for line in glove_file:\n",
        "        values = line.split()\n",
        "        word = values[0]\n",
        "        coefs = np.asarray(values[1:], dtype=\"float32\")\n",
        "        embeddings_index[word] = coefs\n",
        "    glove_file.close()\n",
        "    print(\"Found %s word vectors.\" % len(embeddings_index))\n"
      ]
    },
    {
      "cell_type": "code",
      "execution_count": 45,
      "metadata": {},
      "outputs": [
        {
          "name": "stdout",
          "output_type": "stream",
          "text": [
            "Indexing word vectors.\n",
            "Found 400000 word vectors.\n"
          ]
        }
      ],
      "source": [
        "# Cargando los vectores GLOVE\n",
        "## LOAD PRETRAINED WORD VECTORS\n",
        "GLOVE_FILE = \"glove.6B.100d.txt\"\n",
        "embeddings_index = {}\n",
        "glove_file = open(GLOVE_FILE, encoding=\"utf8\")\n",
        "\n",
        "load_word_vectors(embeddings_index, glove_file)\n",
        "embedding_matrix = np.zeros((len(word_index) + 1, 100))\n",
        "for word, i in word_index.items():\n",
        "    embedding_vector = embeddings_index.get(word)\n",
        "    if embedding_vector is not None:\n",
        "        embedding_matrix[i] = embedding_vector\n",
        "embeddings_index = {}\n"
      ]
    },
    {
      "cell_type": "code",
      "execution_count": 46,
      "metadata": {},
      "outputs": [
        {
          "data": {
            "text/plain": [
              "(77320, 100)"
            ]
          },
          "execution_count": 46,
          "metadata": {},
          "output_type": "execute_result"
        }
      ],
      "source": [
        "embedding_matrix.shape\n"
      ]
    },
    {
      "cell_type": "markdown",
      "metadata": {},
      "source": [
        "\n",
        "Use of pre-trained embeddings:\n"
      ]
    },
    {
      "cell_type": "code",
      "execution_count": 47,
      "metadata": {},
      "outputs": [
        {
          "name": "stdout",
          "output_type": "stream",
          "text": [
            "Model: \"model_8\"\n",
            "_________________________________________________________________\n",
            "Layer (type)                 Output Shape              Param #   \n",
            "=================================================================\n",
            "input_9 (InputLayer)         [(None, 70)]              0         \n",
            "_________________________________________________________________\n",
            "embedding_9 (Embedding)      (None, 70, 100)           7732000   \n",
            "_________________________________________________________________\n",
            "lstm_6 (LSTM)                (None, 10)                4440      \n",
            "_________________________________________________________________\n",
            "dropout_7 (Dropout)          (None, 10)                0         \n",
            "_________________________________________________________________\n",
            "dense_10 (Dense)             (None, 1)                 11        \n",
            "=================================================================\n",
            "Total params: 7,736,451\n",
            "Trainable params: 7,736,451\n",
            "Non-trainable params: 0\n",
            "_________________________________________________________________\n",
            "Epoch 1/10\n",
            "329/329 [==============================] - 51s 147ms/step - loss: 0.6620 - accuracy: 0.5894 - val_loss: 0.4856 - val_accuracy: 0.7773\n",
            "Epoch 2/10\n",
            "329/329 [==============================] - 45s 137ms/step - loss: 0.4214 - accuracy: 0.8241 - val_loss: 0.4763 - val_accuracy: 0.7916\n",
            "Epoch 3/10\n",
            "329/329 [==============================] - 45s 135ms/step - loss: 0.2700 - accuracy: 0.9044 - val_loss: 0.4548 - val_accuracy: 0.8133\n",
            "Epoch 4/10\n",
            "329/329 [==============================] - 47s 142ms/step - loss: 0.1491 - accuracy: 0.9582 - val_loss: 0.5285 - val_accuracy: 0.8020\n",
            "Epoch 5/10\n",
            "329/329 [==============================] - 45s 138ms/step - loss: 0.0761 - accuracy: 0.9843 - val_loss: 0.7179 - val_accuracy: 0.7922\n",
            "Epoch 6/10\n",
            "329/329 [==============================] - 45s 138ms/step - loss: 0.0477 - accuracy: 0.9913 - val_loss: 0.7882 - val_accuracy: 0.7953\n",
            "Epoch 7/10\n",
            "329/329 [==============================] - 47s 142ms/step - loss: 0.0251 - accuracy: 0.9963 - val_loss: 0.8723 - val_accuracy: 0.7853\n",
            "Epoch 8/10\n",
            "329/329 [==============================] - 46s 141ms/step - loss: 0.0207 - accuracy: 0.9974 - val_loss: 0.9617 - val_accuracy: 0.7762\n",
            "Epoch 9/10\n",
            "329/329 [==============================] - 46s 140ms/step - loss: 0.0118 - accuracy: 0.9983 - val_loss: 1.0415 - val_accuracy: 0.7796\n",
            "Epoch 10/10\n",
            "329/329 [==============================] - 45s 137ms/step - loss: 0.0098 - accuracy: 0.9986 - val_loss: 1.1441 - val_accuracy: 0.7762\n"
          ]
        },
        {
          "data": {
            "text/plain": [
              "'  -----------  '"
            ]
          },
          "execution_count": 47,
          "metadata": {},
          "output_type": "execute_result"
        }
      ],
      "source": [
        "from keras.initializers import Constant\n",
        "\n",
        "document_input = Input(shape=(max_words,), dtype=\"int32\")\n",
        "\n",
        "embedding_layer = Embedding(\n",
        "    input_dim=num_words,\n",
        "    output_dim=100,\n",
        "    input_length=max_words,\n",
        "    embeddings_initializer=Constant(embedding_matrix),\n",
        ")\n",
        "embedding = embedding_layer(document_input)\n",
        "lstm = LSTM(10, return_sequences=False)(embedding)\n",
        "dropout = Dropout(0.4)(lstm)\n",
        "output = Dense(1, activation=\"sigmoid\")(dropout)\n",
        "model_2_5_1 = Model(inputs=document_input, outputs=output)\n",
        "model_2_5_1.summary()\n",
        "model_2_5_1.compile(loss=\"binary_crossentropy\", optimizer=\"adam\", metrics=[\"accuracy\"])\n",
        "hist_2_5_1 = model_2_5_1.fit(X_tr_pad, y_train_new, epochs=10, validation_split=0.3)\n"
      ]
    },
    {
      "cell_type": "code",
      "execution_count": 50,
      "metadata": {},
      "outputs": [
        {
          "name": "stdout",
          "output_type": "stream",
          "text": [
            "94/94 [==============================] - 0s 5ms/step - loss: 1.1675 - accuracy: 0.7690\n",
            "Accuracy en datos de test: 0.7689999938011169\n"
          ]
        }
      ],
      "source": [
        "loss, acc = model_2_5_1.evaluate(X_te_pad, y_test_new)\n",
        "print(\"Accuracy en datos de test: {0}\".format(acc))\n"
      ]
    },
    {
      "cell_type": "code",
      "execution_count": 51,
      "metadata": {},
      "outputs": [
        {
          "name": "stdout",
          "output_type": "stream",
          "text": [
            "Model: \"model_9\"\n",
            "_________________________________________________________________\n",
            "Layer (type)                 Output Shape              Param #   \n",
            "=================================================================\n",
            "input_10 (InputLayer)        [(None, 70)]              0         \n",
            "_________________________________________________________________\n",
            "embedding_10 (Embedding)     (None, 70, 100)           7732000   \n",
            "_________________________________________________________________\n",
            "simple_rnn_2 (SimpleRNN)     (None, 10)                1110      \n",
            "_________________________________________________________________\n",
            "dropout_8 (Dropout)          (None, 10)                0         \n",
            "_________________________________________________________________\n",
            "dense_11 (Dense)             (None, 1)                 11        \n",
            "=================================================================\n",
            "Total params: 7,733,121\n",
            "Trainable params: 7,733,121\n",
            "Non-trainable params: 0\n",
            "_________________________________________________________________\n",
            "Epoch 1/10\n",
            "329/329 [==============================] - 50s 148ms/step - loss: 0.7264 - accuracy: 0.5149 - val_loss: 0.6792 - val_accuracy: 0.5596\n",
            "Epoch 2/10\n",
            "329/329 [==============================] - 44s 134ms/step - loss: 0.6633 - accuracy: 0.5976 - val_loss: 0.6451 - val_accuracy: 0.6169\n",
            "Epoch 3/10\n",
            "329/329 [==============================] - 44s 135ms/step - loss: 0.5842 - accuracy: 0.7022 - val_loss: 0.5460 - val_accuracy: 0.7393\n",
            "Epoch 4/10\n",
            "329/329 [==============================] - 48s 147ms/step - loss: 0.4712 - accuracy: 0.7979 - val_loss: 0.5161 - val_accuracy: 0.7653\n",
            "Epoch 5/10\n",
            "329/329 [==============================] - 43s 131ms/step - loss: 0.3732 - accuracy: 0.8573 - val_loss: 0.5374 - val_accuracy: 0.7478\n",
            "Epoch 6/10\n",
            "329/329 [==============================] - 46s 140ms/step - loss: 0.3053 - accuracy: 0.8931 - val_loss: 0.6196 - val_accuracy: 0.7229\n",
            "Epoch 7/10\n",
            "329/329 [==============================] - 46s 141ms/step - loss: 0.2614 - accuracy: 0.9080 - val_loss: 0.5910 - val_accuracy: 0.7449\n",
            "Epoch 8/10\n",
            "329/329 [==============================] - 47s 143ms/step - loss: 0.2182 - accuracy: 0.9260 - val_loss: 0.6998 - val_accuracy: 0.7327\n",
            "Epoch 9/10\n",
            "329/329 [==============================] - 53s 160ms/step - loss: 0.1768 - accuracy: 0.9442 - val_loss: 0.6690 - val_accuracy: 0.7551\n",
            "Epoch 10/10\n",
            "329/329 [==============================] - 51s 156ms/step - loss: 0.1437 - accuracy: 0.9584 - val_loss: 0.7189 - val_accuracy: 0.7522\n"
          ]
        }
      ],
      "source": [
        "document_input = Input(shape=(max_words,), dtype=\"int32\")\n",
        "embedding_layer = Embedding(\n",
        "    input_dim=num_words,\n",
        "    output_dim=100,\n",
        "    input_length=max_words,\n",
        "    embeddings_initializer=Constant(embedding_matrix),\n",
        ")\n",
        "embedding = embedding_layer(document_input)\n",
        "simple_rnn = SimpleRNN(10, return_sequences=False)(embedding)\n",
        "dropout = Dropout(0.4)(simple_rnn)\n",
        "output = Dense(1, activation=\"sigmoid\")(dropout)\n",
        "model_2_5_2 = Model(inputs=document_input, outputs=output)\n",
        "model_2_5_2.summary()\n",
        "model_2_5_2.compile(loss=\"binary_crossentropy\", optimizer=\"adam\", metrics=[\"accuracy\"])\n",
        "hist_2_5_2 = model_2_5_2.fit(X_tr_pad, y_train_new, epochs=10, validation_split=0.3)\n"
      ]
    },
    {
      "cell_type": "code",
      "execution_count": 52,
      "metadata": {},
      "outputs": [
        {
          "name": "stdout",
          "output_type": "stream",
          "text": [
            "94/94 [==============================] - 0s 3ms/step - loss: 0.7569 - accuracy: 0.7387\n",
            "Accuracy en datos de test: 0.7386666536331177\n"
          ]
        }
      ],
      "source": [
        "loss, acc = model_2_5_2.evaluate(X_te_pad, y_test_new)\n",
        "print(\"Accuracy en datos de test: {0}\".format(acc))\n"
      ]
    },
    {
      "cell_type": "code",
      "execution_count": 53,
      "metadata": {},
      "outputs": [
        {
          "name": "stdout",
          "output_type": "stream",
          "text": [
            "Model: \"model_10\"\n",
            "_________________________________________________________________\n",
            "Layer (type)                 Output Shape              Param #   \n",
            "=================================================================\n",
            "input_11 (InputLayer)        [(None, 70)]              0         \n",
            "_________________________________________________________________\n",
            "embedding_11 (Embedding)     (None, 70, 100)           7732000   \n",
            "_________________________________________________________________\n",
            "simple_rnn_3 (SimpleRNN)     (None, 10)                1110      \n",
            "_________________________________________________________________\n",
            "dense_12 (Dense)             (None, 1)                 11        \n",
            "=================================================================\n",
            "Total params: 7,733,121\n",
            "Trainable params: 7,733,121\n",
            "Non-trainable params: 0\n",
            "_________________________________________________________________\n",
            "Epoch 1/10\n",
            "329/329 [==============================] - 54s 162ms/step - loss: 0.6945 - accuracy: 0.5512 - val_loss: 0.6434 - val_accuracy: 0.6293\n",
            "Epoch 2/10\n",
            "329/329 [==============================] - 53s 161ms/step - loss: 0.5787 - accuracy: 0.7045 - val_loss: 0.5539 - val_accuracy: 0.7233\n",
            "Epoch 3/10\n",
            "329/329 [==============================] - 53s 161ms/step - loss: 0.4704 - accuracy: 0.7883 - val_loss: 0.5285 - val_accuracy: 0.7402\n",
            "Epoch 4/10\n",
            "329/329 [==============================] - 55s 167ms/step - loss: 0.3335 - accuracy: 0.8699 - val_loss: 0.5602 - val_accuracy: 0.7500\n",
            "Epoch 5/10\n",
            "329/329 [==============================] - 50s 153ms/step - loss: 0.4226 - accuracy: 0.8247 - val_loss: 0.5532 - val_accuracy: 0.7458\n",
            "Epoch 6/10\n",
            "329/329 [==============================] - 59s 178ms/step - loss: 0.2609 - accuracy: 0.9075 - val_loss: 0.5976 - val_accuracy: 0.7484\n",
            "Epoch 7/10\n",
            "329/329 [==============================] - 58s 176ms/step - loss: 0.2006 - accuracy: 0.9306 - val_loss: 0.5798 - val_accuracy: 0.7553\n",
            "Epoch 8/10\n",
            "329/329 [==============================] - 70s 213ms/step - loss: 0.1999 - accuracy: 0.9315 - val_loss: 0.6003 - val_accuracy: 0.7596\n",
            "Epoch 9/10\n",
            "329/329 [==============================] - 67s 203ms/step - loss: 0.1595 - accuracy: 0.9482 - val_loss: 0.6353 - val_accuracy: 0.7584\n",
            "Epoch 10/10\n",
            "329/329 [==============================] - 53s 162ms/step - loss: 0.1254 - accuracy: 0.9626 - val_loss: 0.7628 - val_accuracy: 0.7342\n"
          ]
        }
      ],
      "source": [
        "document_input = Input(shape=(max_words,), dtype=\"int32\")\n",
        "embedding_layer = Embedding(\n",
        "    input_dim=num_words,\n",
        "    output_dim=100,\n",
        "    input_length=max_words,\n",
        "    embeddings_initializer=Constant(embedding_matrix),\n",
        ")\n",
        "embedding = embedding_layer(document_input)\n",
        "simple_rnn = SimpleRNN(10, return_sequences=False)(embedding)\n",
        "output = Dense(1, activation=\"sigmoid\")(simple_rnn)\n",
        "model_2_5_3 = Model(inputs=document_input, outputs=output)\n",
        "model_2_5_3.summary()\n",
        "model_2_5_3.compile(loss=\"binary_crossentropy\", optimizer=\"adam\", metrics=[\"accuracy\"])\n",
        "hist_2_5_3 = model_2_5_3.fit(X_tr_pad, y_train_new, epochs=10, validation_split=0.3)\n"
      ]
    },
    {
      "cell_type": "code",
      "execution_count": 54,
      "metadata": {},
      "outputs": [
        {
          "name": "stdout",
          "output_type": "stream",
          "text": [
            "94/94 [==============================] - 0s 4ms/step - loss: 0.7940 - accuracy: 0.7317\n",
            "Accuracy en datos de test: 0.7316666841506958\n"
          ]
        }
      ],
      "source": [
        "loss, acc = model_2_5_3.evaluate(X_te_pad, y_test_new)\n",
        "print(\"Accuracy en datos de test: {0}\".format(acc))\n"
      ]
    },
    {
      "cell_type": "code",
      "execution_count": 55,
      "metadata": {},
      "outputs": [
        {
          "name": "stdout",
          "output_type": "stream",
          "text": [
            "Model: \"model_11\"\n",
            "_________________________________________________________________\n",
            "Layer (type)                 Output Shape              Param #   \n",
            "=================================================================\n",
            "input_12 (InputLayer)        [(None, 70)]              0         \n",
            "_________________________________________________________________\n",
            "embedding_12 (Embedding)     (None, 70, 100)           7732000   \n",
            "_________________________________________________________________\n",
            "flatten_1 (Flatten)          (None, 7000)              0         \n",
            "_________________________________________________________________\n",
            "dense_13 (Dense)             (None, 8)                 56008     \n",
            "_________________________________________________________________\n",
            "dense_14 (Dense)             (None, 1)                 9         \n",
            "=================================================================\n",
            "Total params: 7,788,017\n",
            "Trainable params: 7,788,017\n",
            "Non-trainable params: 0\n",
            "_________________________________________________________________\n",
            "Epoch 1/10\n",
            "329/329 [==============================] - 52s 157ms/step - loss: 0.7731 - accuracy: 0.5943 - val_loss: 0.7324 - val_accuracy: 0.6516\n",
            "Epoch 2/10\n",
            "329/329 [==============================] - 53s 162ms/step - loss: 0.3546 - accuracy: 0.8457 - val_loss: 0.5388 - val_accuracy: 0.7538\n",
            "Epoch 3/10\n",
            "329/329 [==============================] - 59s 178ms/step - loss: 0.1480 - accuracy: 0.9544 - val_loss: 0.6566 - val_accuracy: 0.7496\n",
            "Epoch 4/10\n",
            "329/329 [==============================] - 64s 196ms/step - loss: 0.0410 - accuracy: 0.9955 - val_loss: 0.7145 - val_accuracy: 0.7569\n",
            "Epoch 5/10\n",
            "329/329 [==============================] - 65s 198ms/step - loss: 0.0097 - accuracy: 0.9999 - val_loss: 0.7696 - val_accuracy: 0.7567\n",
            "Epoch 6/10\n",
            "329/329 [==============================] - 53s 160ms/step - loss: 0.0037 - accuracy: 1.0000 - val_loss: 0.8068 - val_accuracy: 0.7607\n",
            "Epoch 7/10\n",
            "329/329 [==============================] - 56s 169ms/step - loss: 0.0020 - accuracy: 1.0000 - val_loss: 0.8398 - val_accuracy: 0.7638\n",
            "Epoch 8/10\n",
            "329/329 [==============================] - 51s 155ms/step - loss: 0.0014 - accuracy: 1.0000 - val_loss: 0.8677 - val_accuracy: 0.7647\n",
            "Epoch 9/10\n",
            "329/329 [==============================] - 51s 154ms/step - loss: 9.4010e-04 - accuracy: 1.0000 - val_loss: 0.8931 - val_accuracy: 0.7642\n",
            "Epoch 10/10\n",
            "329/329 [==============================] - 51s 155ms/step - loss: 6.5760e-04 - accuracy: 1.0000 - val_loss: 0.9166 - val_accuracy: 0.7662\n"
          ]
        }
      ],
      "source": [
        "document_input = Input(shape=(max_words,), dtype=\"int32\")\n",
        "embedding_layer = Embedding(\n",
        "    input_dim=num_words,\n",
        "    output_dim=100,\n",
        "    input_length=max_words,\n",
        "    embeddings_initializer=Constant(embedding_matrix),\n",
        ")\n",
        "embedding = embedding_layer(document_input)\n",
        "flatten = Flatten()(embedding)\n",
        "dense = Dense(8)(flatten)\n",
        "output = Dense(1, activation=\"sigmoid\")(dense)\n",
        "model_2_5_4 = Model(inputs=document_input, outputs=output)\n",
        "model_2_5_4.summary()\n",
        "model_2_5_4.compile(loss=\"binary_crossentropy\", optimizer=\"adam\", metrics=[\"accuracy\"])\n",
        "hist_2_5_4 = model_2_5_4.fit(X_tr_pad, y_train_new, epochs=10, validation_split=0.3)\n"
      ]
    },
    {
      "cell_type": "code",
      "execution_count": 56,
      "metadata": {},
      "outputs": [
        {
          "name": "stdout",
          "output_type": "stream",
          "text": [
            "94/94 [==============================] - 0s 1ms/step - loss: 0.9271 - accuracy: 0.7670\n",
            "Accuracy en datos de test: 0.7670000195503235\n"
          ]
        }
      ],
      "source": [
        "loss, acc = model_2_5_4.evaluate(X_te_pad, y_test_new)\n",
        "print(\"Accuracy en datos de test: {0}\".format(acc))\n"
      ]
    }
  ],
  "metadata": {
    "language_info": {
      "name": "python"
    }
  },
  "nbformat": 4,
  "nbformat_minor": 2
}
